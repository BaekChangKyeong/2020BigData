{
  "nbformat": 4,
  "nbformat_minor": 0,
  "metadata": {
    "kernelspec": {
      "display_name": "Python 3",
      "language": "python",
      "name": "python3"
    },
    "language_info": {
      "codemirror_mode": {
        "name": "ipython",
        "version": 3
      },
      "file_extension": ".py",
      "mimetype": "text/x-python",
      "name": "python",
      "nbconvert_exporter": "python",
      "pygments_lexer": "ipython3",
      "version": "3.6.5"
    },
    "colab": {
      "name": "Exploratory Data Analysis on Corona Virus Dataset.ipynb의 사본",
      "provenance": []
    }
  },
  "cells": [
    {
      "cell_type": "markdown",
      "metadata": {
        "id": "OXqCYGcWX_KP",
        "colab_type": "text"
      },
      "source": [
        "<h1 align=\"center\"><u>Analysis on corona virus dataset</u></h1>"
      ]
    },
    {
      "cell_type": "markdown",
      "metadata": {
        "id": "vHlYiM8TX_KQ",
        "colab_type": "text"
      },
      "source": [
        "<h3>1] Description:-</h3>"
      ]
    },
    {
      "cell_type": "markdown",
      "metadata": {
        "id": "UBqIzeKwX_KQ",
        "colab_type": "text"
      },
      "source": [
        "This dataset contains 7k+ patient information with 15 different features.\n",
        "<ul>\n",
        "    <li>id: Unique id of the patient.</li>\n",
        "    <li>sex: Sex/Gender of the patient.</li>\n",
        "    <li>birth_year: Birth year of the patient.</li>\n",
        "    <li>country: Country of the patient.</li>\n",
        "    <li>region: Residential region of the patient.</li>\n",
        "    <li>Disease: 0: no disease / 1: underlying disease</li>\n",
        "    <li>group: The collective infection.</li>\n",
        "    <li>infection_reason: How the patient got infected.</li>\n",
        "    <li>infection_order: The order of infection.</li>\n",
        "    <li>infected_by: The ID of the patient who infected this patient.</li>\n",
        "    <li>contact_number: The number of contacts with people.</li>\n",
        "    <li>confirmed_date: The date of confirmation that people is infected.</li>\n",
        "    <li>released_date: The date of discharge.</li>\n",
        "    <li>deceased_date: The date of decease.</li>\n",
        "    <li>state: The current state of the patient.</li>\n",
        "</ul>\n",
        "Here, state is a class feature which states the current state of patient which can be either isolated, released and deceased.\n",
        "\n",
        "<b>Note: </b>\n",
        "Dataset structure, graph and observation may vary somewhere because this dataset is keeps on updating. So, static textual observation may be little different from graphical representation. "
      ]
    },
    {
      "cell_type": "markdown",
      "metadata": {
        "id": "0OQS9JlWX_KR",
        "colab_type": "text"
      },
      "source": [
        "<h3>2] Importing the required packages and csv file:-</h3>"
      ]
    },
    {
      "cell_type": "code",
      "metadata": {
        "trusted": true,
        "id": "r5fdHKY4X_KR",
        "colab_type": "code",
        "outputId": "b0020f78-2e9b-4ac1-c518-480f9ba9c5a2",
        "colab": {
          "base_uri": "https://localhost:8080/",
          "height": 377
        }
      },
      "source": [
        "import pandas as pd\n",
        "import numpy as np\n",
        "import seaborn as sns\n",
        "import matplotlib.pyplot as plt\n",
        "import warnings\n",
        "import requests\n",
        "from io import StringIO\n",
        "warnings.filterwarnings('ignore')\n",
        "\n",
        "#Source of data: KCDC (Korea Centers for Disease Control & Prevention)\n",
        "#https://www.kaggle.com/kimjihoo/coronavirusdataset#PatientInfo.csv\n",
        "#orig_url='https://drive.google.com/file/d/19xbGTaB5oIKhqDHRnQWiN9e7CUDdlRqr/view?usp=sharing'\n",
        "orig_url='https://drive.google.com/file/d/1zvvT5vp9xiKJDXacnwvP0zQ1y1G1C6tz/view?usp=sharing'\n",
        "file_id = orig_url.split('/')[-2]\n",
        "dwn_url='https://drive.google.com/uc?export=download&id=' + file_id\n",
        "url = requests.get(dwn_url).text\n",
        "csv_raw = StringIO(url)\n",
        "patient = pd.read_csv(csv_raw)\n",
        "patient.head(5)"
      ],
      "execution_count": 1,
      "outputs": [
        {
          "output_type": "stream",
          "text": [
            "/usr/local/lib/python3.6/dist-packages/statsmodels/tools/_testing.py:19: FutureWarning: pandas.util.testing is deprecated. Use the functions in the public API at pandas.testing instead.\n",
            "  import pandas.util.testing as tm\n"
          ],
          "name": "stderr"
        },
        {
          "output_type": "execute_result",
          "data": {
            "text/html": [
              "<div>\n",
              "<style scoped>\n",
              "    .dataframe tbody tr th:only-of-type {\n",
              "        vertical-align: middle;\n",
              "    }\n",
              "\n",
              "    .dataframe tbody tr th {\n",
              "        vertical-align: top;\n",
              "    }\n",
              "\n",
              "    .dataframe thead th {\n",
              "        text-align: right;\n",
              "    }\n",
              "</style>\n",
              "<table border=\"1\" class=\"dataframe\">\n",
              "  <thead>\n",
              "    <tr style=\"text-align: right;\">\n",
              "      <th></th>\n",
              "      <th>patient_id</th>\n",
              "      <th>sex</th>\n",
              "      <th>birth_year</th>\n",
              "      <th>country</th>\n",
              "      <th>region</th>\n",
              "      <th>disease</th>\n",
              "      <th>group</th>\n",
              "      <th>infection_reason</th>\n",
              "      <th>infection_order</th>\n",
              "      <th>infected_by</th>\n",
              "      <th>contact_number</th>\n",
              "      <th>confirmed_date</th>\n",
              "      <th>released_date</th>\n",
              "      <th>deceased_date</th>\n",
              "      <th>state</th>\n",
              "    </tr>\n",
              "  </thead>\n",
              "  <tbody>\n",
              "    <tr>\n",
              "      <th>0</th>\n",
              "      <td>1</td>\n",
              "      <td>female</td>\n",
              "      <td>1984.0</td>\n",
              "      <td>China</td>\n",
              "      <td>filtered at airport</td>\n",
              "      <td>NaN</td>\n",
              "      <td>NaN</td>\n",
              "      <td>visit to Wuhan</td>\n",
              "      <td>1.0</td>\n",
              "      <td>NaN</td>\n",
              "      <td>45.0</td>\n",
              "      <td>2020-01-20</td>\n",
              "      <td>2020-02-06</td>\n",
              "      <td>NaN</td>\n",
              "      <td>released</td>\n",
              "    </tr>\n",
              "    <tr>\n",
              "      <th>1</th>\n",
              "      <td>2</td>\n",
              "      <td>male</td>\n",
              "      <td>1964.0</td>\n",
              "      <td>Korea</td>\n",
              "      <td>filtered at airport</td>\n",
              "      <td>NaN</td>\n",
              "      <td>NaN</td>\n",
              "      <td>visit to Wuhan</td>\n",
              "      <td>1.0</td>\n",
              "      <td>NaN</td>\n",
              "      <td>75.0</td>\n",
              "      <td>2020-01-24</td>\n",
              "      <td>2020-02-05</td>\n",
              "      <td>NaN</td>\n",
              "      <td>released</td>\n",
              "    </tr>\n",
              "    <tr>\n",
              "      <th>2</th>\n",
              "      <td>3</td>\n",
              "      <td>male</td>\n",
              "      <td>1966.0</td>\n",
              "      <td>Korea</td>\n",
              "      <td>capital area</td>\n",
              "      <td>NaN</td>\n",
              "      <td>NaN</td>\n",
              "      <td>visit to Wuhan</td>\n",
              "      <td>1.0</td>\n",
              "      <td>NaN</td>\n",
              "      <td>16.0</td>\n",
              "      <td>2020-01-26</td>\n",
              "      <td>2020-02-12</td>\n",
              "      <td>NaN</td>\n",
              "      <td>released</td>\n",
              "    </tr>\n",
              "    <tr>\n",
              "      <th>3</th>\n",
              "      <td>4</td>\n",
              "      <td>male</td>\n",
              "      <td>1964.0</td>\n",
              "      <td>Korea</td>\n",
              "      <td>capital area</td>\n",
              "      <td>NaN</td>\n",
              "      <td>NaN</td>\n",
              "      <td>visit to Wuhan</td>\n",
              "      <td>1.0</td>\n",
              "      <td>NaN</td>\n",
              "      <td>95.0</td>\n",
              "      <td>2020-01-27</td>\n",
              "      <td>2020-02-09</td>\n",
              "      <td>NaN</td>\n",
              "      <td>released</td>\n",
              "    </tr>\n",
              "    <tr>\n",
              "      <th>4</th>\n",
              "      <td>5</td>\n",
              "      <td>male</td>\n",
              "      <td>1987.0</td>\n",
              "      <td>Korea</td>\n",
              "      <td>capital area</td>\n",
              "      <td>NaN</td>\n",
              "      <td>NaN</td>\n",
              "      <td>visit to Wuhan</td>\n",
              "      <td>1.0</td>\n",
              "      <td>NaN</td>\n",
              "      <td>31.0</td>\n",
              "      <td>2020-01-30</td>\n",
              "      <td>2020-03-02</td>\n",
              "      <td>NaN</td>\n",
              "      <td>released</td>\n",
              "    </tr>\n",
              "  </tbody>\n",
              "</table>\n",
              "</div>"
            ],
            "text/plain": [
              "   patient_id     sex  birth_year  ... released_date deceased_date     state\n",
              "0           1  female      1984.0  ...    2020-02-06           NaN  released\n",
              "1           2    male      1964.0  ...    2020-02-05           NaN  released\n",
              "2           3    male      1966.0  ...    2020-02-12           NaN  released\n",
              "3           4    male      1964.0  ...    2020-02-09           NaN  released\n",
              "4           5    male      1987.0  ...    2020-03-02           NaN  released\n",
              "\n",
              "[5 rows x 15 columns]"
            ]
          },
          "metadata": {
            "tags": []
          },
          "execution_count": 1
        }
      ]
    },
    {
      "cell_type": "code",
      "metadata": {
        "trusted": true,
        "id": "CtJ0IEHAX_KU",
        "colab_type": "code",
        "outputId": "c4fa7ba8-3cc6-4d21-f03f-5a08605f2c7d",
        "colab": {
          "base_uri": "https://localhost:8080/",
          "height": 391
        }
      },
      "source": [
        "patient.info()"
      ],
      "execution_count": 2,
      "outputs": [
        {
          "output_type": "stream",
          "text": [
            "<class 'pandas.core.frame.DataFrame'>\n",
            "RangeIndex: 7869 entries, 0 to 7868\n",
            "Data columns (total 15 columns):\n",
            " #   Column            Non-Null Count  Dtype  \n",
            "---  ------            --------------  -----  \n",
            " 0   patient_id        7869 non-null   int64  \n",
            " 1   sex               679 non-null    object \n",
            " 2   birth_year        666 non-null    float64\n",
            " 3   country           7869 non-null   object \n",
            " 4   region            437 non-null    object \n",
            " 5   disease           28 non-null     float64\n",
            " 6   group             86 non-null     object \n",
            " 7   infection_reason  154 non-null    object \n",
            " 8   infection_order   36 non-null     float64\n",
            " 9   infected_by       70 non-null     float64\n",
            " 10  contact_number    53 non-null     float64\n",
            " 11  confirmed_date    7869 non-null   object \n",
            " 12  released_date     56 non-null     object \n",
            " 13  deceased_date     36 non-null     object \n",
            " 14  state             7869 non-null   object \n",
            "dtypes: float64(5), int64(1), object(9)\n",
            "memory usage: 922.3+ KB\n"
          ],
          "name": "stdout"
        }
      ]
    },
    {
      "cell_type": "code",
      "metadata": {
        "id": "pwbsGwna9YMU",
        "colab_type": "code",
        "outputId": "157b609c-9551-40c6-d27e-ffa93e890275",
        "colab": {
          "base_uri": "https://localhost:8080/",
          "height": 34
        }
      },
      "source": [
        "patient['birth_year'].isna().sum()"
      ],
      "execution_count": 3,
      "outputs": [
        {
          "output_type": "execute_result",
          "data": {
            "text/plain": [
              "7203"
            ]
          },
          "metadata": {
            "tags": []
          },
          "execution_count": 3
        }
      ]
    },
    {
      "cell_type": "code",
      "metadata": {
        "id": "2RDeEF1e_moD",
        "colab_type": "code",
        "outputId": "c990b248-8959-426a-9896-81e5d1220a41",
        "colab": {
          "base_uri": "https://localhost:8080/",
          "height": 34
        }
      },
      "source": [
        "patient['birth_year'].notna().sum()"
      ],
      "execution_count": 4,
      "outputs": [
        {
          "output_type": "execute_result",
          "data": {
            "text/plain": [
              "666"
            ]
          },
          "metadata": {
            "tags": []
          },
          "execution_count": 4
        }
      ]
    },
    {
      "cell_type": "code",
      "metadata": {
        "id": "1AwR2O3ZA_M7",
        "colab_type": "code",
        "outputId": "1e7dad24-3b7a-48cf-e72b-a7a5dffd581d",
        "colab": {
          "base_uri": "https://localhost:8080/",
          "height": 221
        }
      },
      "source": [
        "patient['birth_year'].astype('Int64')"
      ],
      "execution_count": 5,
      "outputs": [
        {
          "output_type": "execute_result",
          "data": {
            "text/plain": [
              "0       1984\n",
              "1       1964\n",
              "2       1966\n",
              "3       1964\n",
              "4       1987\n",
              "        ... \n",
              "7864    <NA>\n",
              "7865    <NA>\n",
              "7866    <NA>\n",
              "7867    <NA>\n",
              "7868    <NA>\n",
              "Name: birth_year, Length: 7869, dtype: Int64"
            ]
          },
          "metadata": {
            "tags": []
          },
          "execution_count": 5
        }
      ]
    },
    {
      "cell_type": "markdown",
      "metadata": {
        "id": "DYF0jvZWX_KZ",
        "colab_type": "text"
      },
      "source": [
        "Out of 7k+ patients, there are 50+ patients who got discharge and 30+ patients couldn't survive from this disease whereas remaining patients are still under isolation."
      ]
    },
    {
      "cell_type": "markdown",
      "metadata": {
        "id": "t-dK1WVuX_Ka",
        "colab_type": "text"
      },
      "source": [
        "<h3>3] Data pre-processing:-</h3>"
      ]
    },
    {
      "cell_type": "markdown",
      "metadata": {
        "id": "P6KQMfdKX_Ka",
        "colab_type": "text"
      },
      "source": [
        "Adding new feature age by subtracting current year with birth year feature."
      ]
    },
    {
      "cell_type": "code",
      "metadata": {
        "trusted": true,
        "id": "wA56J9sqX_Kb",
        "colab_type": "code",
        "colab": {}
      },
      "source": [
        "patient['age'] = 2020 - patient['birth_year']"
      ],
      "execution_count": 0,
      "outputs": []
    },
    {
      "cell_type": "markdown",
      "metadata": {
        "id": "ZCMiZphSX_Kd",
        "colab_type": "text"
      },
      "source": [
        "Now, lets create new dataframes for each state i.e. isolated,released and deceased."
      ]
    },
    {
      "cell_type": "code",
      "metadata": {
        "trusted": true,
        "id": "KJ6UYPo3X_Kd",
        "colab_type": "code",
        "colab": {}
      },
      "source": [
        "deceased = patient.loc[patient['state'] == 'deceased']\n",
        "released = patient.loc[patient['state'] == 'released']\n",
        "isolated = patient.loc[patient['state'] == 'isolated']"
      ],
      "execution_count": 0,
      "outputs": []
    },
    {
      "cell_type": "code",
      "metadata": {
        "trusted": true,
        "id": "LN_qPK-BX_Kg",
        "colab_type": "code",
        "outputId": "3ec4bd31-d946-41ee-a029-43a9e31e7938",
        "colab": {
          "base_uri": "https://localhost:8080/",
          "height": 360
        }
      },
      "source": [
        "#Adding one more feature to deceased dataset which will contain the number of days patient survived.\n",
        "date_column = [\"confirmed_date\",\"deceased_date\"]\n",
        "for i in date_column:\n",
        "    deceased[i] = pd.to_datetime(deceased[i])\n",
        "deceased[\"no_of_days_survived\"] = deceased[\"deceased_date\"] - deceased[\"confirmed_date\"]\n",
        "deceased.head(5)"
      ],
      "execution_count": 8,
      "outputs": [
        {
          "output_type": "execute_result",
          "data": {
            "text/html": [
              "<div>\n",
              "<style scoped>\n",
              "    .dataframe tbody tr th:only-of-type {\n",
              "        vertical-align: middle;\n",
              "    }\n",
              "\n",
              "    .dataframe tbody tr th {\n",
              "        vertical-align: top;\n",
              "    }\n",
              "\n",
              "    .dataframe thead th {\n",
              "        text-align: right;\n",
              "    }\n",
              "</style>\n",
              "<table border=\"1\" class=\"dataframe\">\n",
              "  <thead>\n",
              "    <tr style=\"text-align: right;\">\n",
              "      <th></th>\n",
              "      <th>patient_id</th>\n",
              "      <th>sex</th>\n",
              "      <th>birth_year</th>\n",
              "      <th>country</th>\n",
              "      <th>region</th>\n",
              "      <th>disease</th>\n",
              "      <th>group</th>\n",
              "      <th>infection_reason</th>\n",
              "      <th>infection_order</th>\n",
              "      <th>infected_by</th>\n",
              "      <th>contact_number</th>\n",
              "      <th>confirmed_date</th>\n",
              "      <th>released_date</th>\n",
              "      <th>deceased_date</th>\n",
              "      <th>state</th>\n",
              "      <th>age</th>\n",
              "      <th>no_of_days_survived</th>\n",
              "    </tr>\n",
              "  </thead>\n",
              "  <tbody>\n",
              "    <tr>\n",
              "      <th>37</th>\n",
              "      <td>38</td>\n",
              "      <td>female</td>\n",
              "      <td>1963.0</td>\n",
              "      <td>Korea</td>\n",
              "      <td>Daegu</td>\n",
              "      <td>1.0</td>\n",
              "      <td>NaN</td>\n",
              "      <td>NaN</td>\n",
              "      <td>NaN</td>\n",
              "      <td>NaN</td>\n",
              "      <td>NaN</td>\n",
              "      <td>2020-02-18</td>\n",
              "      <td>NaN</td>\n",
              "      <td>2020-02-23</td>\n",
              "      <td>deceased</td>\n",
              "      <td>57.0</td>\n",
              "      <td>5 days</td>\n",
              "    </tr>\n",
              "    <tr>\n",
              "      <th>53</th>\n",
              "      <td>54</td>\n",
              "      <td>male</td>\n",
              "      <td>1963.0</td>\n",
              "      <td>Korea</td>\n",
              "      <td>Gyeongsangbuk-do</td>\n",
              "      <td>1.0</td>\n",
              "      <td>Cheongdo Daenam Hospital</td>\n",
              "      <td>NaN</td>\n",
              "      <td>NaN</td>\n",
              "      <td>NaN</td>\n",
              "      <td>NaN</td>\n",
              "      <td>2020-02-19</td>\n",
              "      <td>NaN</td>\n",
              "      <td>2020-02-23</td>\n",
              "      <td>deceased</td>\n",
              "      <td>57.0</td>\n",
              "      <td>4 days</td>\n",
              "    </tr>\n",
              "    <tr>\n",
              "      <th>54</th>\n",
              "      <td>55</td>\n",
              "      <td>male</td>\n",
              "      <td>1961.0</td>\n",
              "      <td>Korea</td>\n",
              "      <td>Gyeongsangbuk-do</td>\n",
              "      <td>1.0</td>\n",
              "      <td>Cheongdo Daenam Hospital</td>\n",
              "      <td>NaN</td>\n",
              "      <td>NaN</td>\n",
              "      <td>NaN</td>\n",
              "      <td>NaN</td>\n",
              "      <td>2020-02-19</td>\n",
              "      <td>NaN</td>\n",
              "      <td>2020-02-23</td>\n",
              "      <td>deceased</td>\n",
              "      <td>59.0</td>\n",
              "      <td>4 days</td>\n",
              "    </tr>\n",
              "    <tr>\n",
              "      <th>103</th>\n",
              "      <td>104</td>\n",
              "      <td>male</td>\n",
              "      <td>1957.0</td>\n",
              "      <td>Korea</td>\n",
              "      <td>Gyeongsangbuk-do</td>\n",
              "      <td>1.0</td>\n",
              "      <td>Cheongdo Daenam Hospital</td>\n",
              "      <td>NaN</td>\n",
              "      <td>NaN</td>\n",
              "      <td>NaN</td>\n",
              "      <td>NaN</td>\n",
              "      <td>2020-02-20</td>\n",
              "      <td>NaN</td>\n",
              "      <td>2020-02-19</td>\n",
              "      <td>deceased</td>\n",
              "      <td>63.0</td>\n",
              "      <td>-1 days</td>\n",
              "    </tr>\n",
              "    <tr>\n",
              "      <th>106</th>\n",
              "      <td>107</td>\n",
              "      <td>male</td>\n",
              "      <td>1953.0</td>\n",
              "      <td>Korea</td>\n",
              "      <td>Gyeongsangbuk-do</td>\n",
              "      <td>1.0</td>\n",
              "      <td>Cheongdo Daenam Hospital</td>\n",
              "      <td>NaN</td>\n",
              "      <td>NaN</td>\n",
              "      <td>NaN</td>\n",
              "      <td>NaN</td>\n",
              "      <td>2020-02-21</td>\n",
              "      <td>NaN</td>\n",
              "      <td>2020-02-24</td>\n",
              "      <td>deceased</td>\n",
              "      <td>67.0</td>\n",
              "      <td>3 days</td>\n",
              "    </tr>\n",
              "  </tbody>\n",
              "</table>\n",
              "</div>"
            ],
            "text/plain": [
              "     patient_id     sex  birth_year  ...     state   age  no_of_days_survived\n",
              "37           38  female      1963.0  ...  deceased  57.0               5 days\n",
              "53           54    male      1963.0  ...  deceased  57.0               4 days\n",
              "54           55    male      1961.0  ...  deceased  59.0               4 days\n",
              "103         104    male      1957.0  ...  deceased  63.0              -1 days\n",
              "106         107    male      1953.0  ...  deceased  67.0               3 days\n",
              "\n",
              "[5 rows x 17 columns]"
            ]
          },
          "metadata": {
            "tags": []
          },
          "execution_count": 8
        }
      ]
    },
    {
      "cell_type": "code",
      "metadata": {
        "trusted": true,
        "id": "6BQmgJ-qX_Kj",
        "colab_type": "code",
        "outputId": "20d73a62-4fd6-461a-ff0f-d61053502f22",
        "colab": {
          "base_uri": "https://localhost:8080/",
          "height": 343
        }
      },
      "source": [
        "#Adding one more feature to deceased dataset which will contain the number of days patient was admitted before discharged.\n",
        "date_column = [\"confirmed_date\",\"released_date\"]\n",
        "for i in date_column:\n",
        "    released[i] = pd.to_datetime(released[i])\n",
        "released[\"no_of_days_treated\"] = released[\"released_date\"] - released[\"confirmed_date\"]\n",
        "released.head(5)"
      ],
      "execution_count": 9,
      "outputs": [
        {
          "output_type": "execute_result",
          "data": {
            "text/html": [
              "<div>\n",
              "<style scoped>\n",
              "    .dataframe tbody tr th:only-of-type {\n",
              "        vertical-align: middle;\n",
              "    }\n",
              "\n",
              "    .dataframe tbody tr th {\n",
              "        vertical-align: top;\n",
              "    }\n",
              "\n",
              "    .dataframe thead th {\n",
              "        text-align: right;\n",
              "    }\n",
              "</style>\n",
              "<table border=\"1\" class=\"dataframe\">\n",
              "  <thead>\n",
              "    <tr style=\"text-align: right;\">\n",
              "      <th></th>\n",
              "      <th>patient_id</th>\n",
              "      <th>sex</th>\n",
              "      <th>birth_year</th>\n",
              "      <th>country</th>\n",
              "      <th>region</th>\n",
              "      <th>disease</th>\n",
              "      <th>group</th>\n",
              "      <th>infection_reason</th>\n",
              "      <th>infection_order</th>\n",
              "      <th>infected_by</th>\n",
              "      <th>contact_number</th>\n",
              "      <th>confirmed_date</th>\n",
              "      <th>released_date</th>\n",
              "      <th>deceased_date</th>\n",
              "      <th>state</th>\n",
              "      <th>age</th>\n",
              "      <th>no_of_days_treated</th>\n",
              "    </tr>\n",
              "  </thead>\n",
              "  <tbody>\n",
              "    <tr>\n",
              "      <th>0</th>\n",
              "      <td>1</td>\n",
              "      <td>female</td>\n",
              "      <td>1984.0</td>\n",
              "      <td>China</td>\n",
              "      <td>filtered at airport</td>\n",
              "      <td>NaN</td>\n",
              "      <td>NaN</td>\n",
              "      <td>visit to Wuhan</td>\n",
              "      <td>1.0</td>\n",
              "      <td>NaN</td>\n",
              "      <td>45.0</td>\n",
              "      <td>2020-01-20</td>\n",
              "      <td>2020-02-06</td>\n",
              "      <td>NaN</td>\n",
              "      <td>released</td>\n",
              "      <td>36.0</td>\n",
              "      <td>17 days</td>\n",
              "    </tr>\n",
              "    <tr>\n",
              "      <th>1</th>\n",
              "      <td>2</td>\n",
              "      <td>male</td>\n",
              "      <td>1964.0</td>\n",
              "      <td>Korea</td>\n",
              "      <td>filtered at airport</td>\n",
              "      <td>NaN</td>\n",
              "      <td>NaN</td>\n",
              "      <td>visit to Wuhan</td>\n",
              "      <td>1.0</td>\n",
              "      <td>NaN</td>\n",
              "      <td>75.0</td>\n",
              "      <td>2020-01-24</td>\n",
              "      <td>2020-02-05</td>\n",
              "      <td>NaN</td>\n",
              "      <td>released</td>\n",
              "      <td>56.0</td>\n",
              "      <td>12 days</td>\n",
              "    </tr>\n",
              "    <tr>\n",
              "      <th>2</th>\n",
              "      <td>3</td>\n",
              "      <td>male</td>\n",
              "      <td>1966.0</td>\n",
              "      <td>Korea</td>\n",
              "      <td>capital area</td>\n",
              "      <td>NaN</td>\n",
              "      <td>NaN</td>\n",
              "      <td>visit to Wuhan</td>\n",
              "      <td>1.0</td>\n",
              "      <td>NaN</td>\n",
              "      <td>16.0</td>\n",
              "      <td>2020-01-26</td>\n",
              "      <td>2020-02-12</td>\n",
              "      <td>NaN</td>\n",
              "      <td>released</td>\n",
              "      <td>54.0</td>\n",
              "      <td>17 days</td>\n",
              "    </tr>\n",
              "    <tr>\n",
              "      <th>3</th>\n",
              "      <td>4</td>\n",
              "      <td>male</td>\n",
              "      <td>1964.0</td>\n",
              "      <td>Korea</td>\n",
              "      <td>capital area</td>\n",
              "      <td>NaN</td>\n",
              "      <td>NaN</td>\n",
              "      <td>visit to Wuhan</td>\n",
              "      <td>1.0</td>\n",
              "      <td>NaN</td>\n",
              "      <td>95.0</td>\n",
              "      <td>2020-01-27</td>\n",
              "      <td>2020-02-09</td>\n",
              "      <td>NaN</td>\n",
              "      <td>released</td>\n",
              "      <td>56.0</td>\n",
              "      <td>13 days</td>\n",
              "    </tr>\n",
              "    <tr>\n",
              "      <th>4</th>\n",
              "      <td>5</td>\n",
              "      <td>male</td>\n",
              "      <td>1987.0</td>\n",
              "      <td>Korea</td>\n",
              "      <td>capital area</td>\n",
              "      <td>NaN</td>\n",
              "      <td>NaN</td>\n",
              "      <td>visit to Wuhan</td>\n",
              "      <td>1.0</td>\n",
              "      <td>NaN</td>\n",
              "      <td>31.0</td>\n",
              "      <td>2020-01-30</td>\n",
              "      <td>2020-03-02</td>\n",
              "      <td>NaN</td>\n",
              "      <td>released</td>\n",
              "      <td>33.0</td>\n",
              "      <td>32 days</td>\n",
              "    </tr>\n",
              "  </tbody>\n",
              "</table>\n",
              "</div>"
            ],
            "text/plain": [
              "   patient_id     sex  birth_year  ...     state   age  no_of_days_treated\n",
              "0           1  female      1984.0  ...  released  36.0             17 days\n",
              "1           2    male      1964.0  ...  released  56.0             12 days\n",
              "2           3    male      1966.0  ...  released  54.0             17 days\n",
              "3           4    male      1964.0  ...  released  56.0             13 days\n",
              "4           5    male      1987.0  ...  released  33.0             32 days\n",
              "\n",
              "[5 rows x 17 columns]"
            ]
          },
          "metadata": {
            "tags": []
          },
          "execution_count": 9
        }
      ]
    },
    {
      "cell_type": "code",
      "metadata": {
        "trusted": true,
        "id": "t037m_6VX_Kl",
        "colab_type": "code",
        "outputId": "29e7ea34-10a2-4502-e767-55a904ec1880",
        "colab": {
          "base_uri": "https://localhost:8080/",
          "height": 68
        }
      },
      "source": [
        "print('The percentage of released patient is: ',(len(released) * 100) / len(patient))\n",
        "print('The percentage of deceased patient is: ',(len(deceased) * 100) / len(patient))\n",
        "print('The percentage of isolated patient is: ',(len(isolated) * 100) / len(patient))"
      ],
      "execution_count": 10,
      "outputs": [
        {
          "output_type": "stream",
          "text": [
            "The percentage of released patient is:  0.7116533231668573\n",
            "The percentage of deceased patient is:  0.4574914220358368\n",
            "The percentage of isolated patient is:  98.8308552547973\n"
          ],
          "name": "stdout"
        }
      ]
    },
    {
      "cell_type": "markdown",
      "metadata": {
        "id": "pDbAze0pX_Kt",
        "colab_type": "text"
      },
      "source": [
        "<h3>5] Cumulative density function:-</h3>"
      ]
    },
    {
      "cell_type": "code",
      "metadata": {
        "trusted": true,
        "id": "vl722bUjX_Kt",
        "colab_type": "code",
        "outputId": "84452fb4-2a93-46c3-fa87-f5e8b98abc5d",
        "colab": {
          "base_uri": "https://localhost:8080/",
          "height": 279
        }
      },
      "source": [
        "counts, bin_edges = np.histogram(deceased['age'], bins=10, density = True)\n",
        "pdf = counts/(sum(counts))\n",
        "cdf = np.cumsum(pdf)\n",
        "plt.plot(bin_edges[1:], pdf)\n",
        "plt.plot(bin_edges[1:], cdf, label = 'Death')\n",
        "\n",
        "counts, bin_edges = np.histogram(released['age'], bins=10, density = True)\n",
        "pdf = counts/(sum(counts))\n",
        "cdf = np.cumsum(pdf)\n",
        "plt.plot(bin_edges[1:], pdf)\n",
        "plt.plot(bin_edges[1:], cdf, label = 'Recovered')\n",
        "\n",
        "plt.xlabel('Age of patient')\n",
        "plt.ylabel('Percentage')\n",
        "plt.legend()\n",
        "plt.grid()\n",
        "plt.show()"
      ],
      "execution_count": 11,
      "outputs": [
        {
          "output_type": "display_data",
          "data": {
            "image/png": "[encoded data removed]",
            "text/plain": [
              "<Figure size 432x288 with 1 Axes>"
            ]
          },
          "metadata": {
            "tags": [],
            "needs_background": "light"
          }
        }
      ]
    },
    {
      "cell_type": "markdown",
      "metadata": {
        "id": "CfRxclZxX_Kw",
        "colab_type": "text"
      },
      "source": [
        "The above graph shows the PDF and CDF for deceased and released patient with age in X-axis.<br><br>\n",
        "<h4>Observation:-</h4>\n",
        "* We can observer that almost 62% of the patient who recovered has age less than 50 years.\n",
        "<br>\n",
        "* All the patient who didn't survive has age greater than 40 and almost 80% of deceased patient has age greater than 55."
      ]
    },
    {
      "cell_type": "code",
      "metadata": {
        "trusted": true,
        "id": "Vz8qg__zX_LB",
        "colab_type": "code",
        "outputId": "ccbe1736-39f1-452c-ca1f-e093108b9690",
        "colab": {
          "base_uri": "https://localhost:8080/",
          "height": 345
        }
      },
      "source": [
        "plt.figure(figsize=(15,5))\n",
        "patient.infected_by.value_counts().plot.bar().grid()"
      ],
      "execution_count": 12,
      "outputs": [
        {
          "output_type": "display_data",
          "data": {
            "image/png": "[encoded data removed]",
            "text/plain": [
              "<Figure size 1080x360 with 1 Axes>"
            ]
          },
          "metadata": {
            "tags": [],
            "needs_background": "light"
          }
        }
      ]
    },
    {
      "cell_type": "markdown",
      "metadata": {
        "id": "saoQ9t5_X_LQ",
        "colab_type": "text"
      },
      "source": [
        "<h3>12] Linear Regression:-</h3>"
      ]
    },
    {
      "cell_type": "markdown",
      "metadata": {
        "id": "n6KOdf6bX_LQ",
        "colab_type": "text"
      },
      "source": [
        "<h4>Explanation & problem statement:</h4>\n",
        "* The number of cases from one day to next day are completely random as the number of cases increases day by day are independent of each other.\n",
        "* As of now let's assume number of new cases each day is proportional to the number of existing cases, it means each day it's get multiplied by a constant.\n",
        "* Intuitively it means as the date changes, the number of confirmed cases also increases as they both are directly proportional to each other.\n",
        "* So, if we compare total cases from one day to next day, then tracking the changes between number of cases is nothing but the growth factor.\n",
        "* Simply growth factor is the ratio between two successive changes and that resultant ratio is the constant that get multiplied each day.\n",
        "* So, with existing accumulated data(number of cases each day), we'll predict the expected number of cases for future dates by using Linear Regresion which is one of the simplest but powerful concept of machine learning.\n"
      ]
    },
    {
      "cell_type": "markdown",
      "metadata": {
        "id": "ZnGfR_hoX_LQ",
        "colab_type": "text"
      },
      "source": [
        "<h4>Input and Output:</h4>\n",
        "* In this model, we'll take all unique confirmed date and total number of cases for that date as an input.\n",
        "* So, I'll use only confirmed_date and patient_id feature in my linear regression model.\n",
        "* For all confirmed date, we'll compute total count of case for that date using patient_id feature as patient id is unique for every patient.\n",
        "* For every confirmed date, it's count value will be sum of total case for that day plus sum of total case for all preceding date(i.e. accumulated count).\n",
        "* And the output that we'll compute is the prediction of total number of case for future dates."
      ]
    },
    {
      "cell_type": "markdown",
      "metadata": {
        "id": "yL79Iv1XX_LR",
        "colab_type": "text"
      },
      "source": [
        "<h4>Step 1:</h4>\n",
        "Computing total number of cases for each confirmed date."
      ]
    },
    {
      "cell_type": "code",
      "metadata": {
        "trusted": true,
        "id": "yILrG6kRX_LR",
        "colab_type": "code",
        "colab": {}
      },
      "source": [
        "#Calculating total number of confirmed cases for each day\n",
        "case_count_per_day = patient.groupby('confirmed_date').patient_id.count()\n",
        "case_count_per_day = pd.DataFrame(case_count_per_day)"
      ],
      "execution_count": 0,
      "outputs": []
    },
    {
      "cell_type": "markdown",
      "metadata": {
        "id": "D3ma-7EmX_LT",
        "colab_type": "text"
      },
      "source": [
        "<h4>Step 2:</h4>\n",
        "Computing the cumulative sum of case for each date."
      ]
    },
    {
      "cell_type": "code",
      "metadata": {
        "trusted": true,
        "id": "6cB89qVjX_LT",
        "colab_type": "code",
        "colab": {}
      },
      "source": [
        "#Calculating cumulative sum of confirmed cases as date increased(total number of cases increases as date changes)\n",
        "data = case_count_per_day.cumsum()\n",
        "#Picking up the continuous data w.r.t. dates\n",
        "dataset = data.iloc[16:]"
      ],
      "execution_count": 0,
      "outputs": []
    },
    {
      "cell_type": "markdown",
      "metadata": {
        "id": "k3wJprsjX_LW",
        "colab_type": "text"
      },
      "source": [
        "<h4>Step 3:</h4>\n",
        "Selecting the range of dates and total number of future date that want to be predicted."
      ]
    },
    {
      "cell_type": "code",
      "metadata": {
        "trusted": true,
        "id": "Q0RJTDNnX_LW",
        "colab_type": "code",
        "colab": {}
      },
      "source": [
        "# This var will be used to predict the cases till next 7 days\n",
        "days_in_future = 7\n",
        "dates = pd.date_range('2020-2-20','2020-3-11')\n",
        "\n",
        "#This is to predict the cases for future dates\n",
        "future_y_pred = np.array([i for i in range(len(dates)+days_in_future)]).reshape(-1, 1)\n",
        "\n",
        "#This var will be used to compute the R^2\n",
        "y_pred = np.array([i for i in range(len(dates))]).reshape(-1, 1)"
      ],
      "execution_count": 0,
      "outputs": []
    },
    {
      "cell_type": "markdown",
      "metadata": {
        "id": "7K6MHBA0X_LY",
        "colab_type": "text"
      },
      "source": [
        "<h4>Step 4:</h4>\n",
        "Re-shaping the data to fit it in our model."
      ]
    },
    {
      "cell_type": "code",
      "metadata": {
        "trusted": true,
        "id": "04_1TRs6X_LY",
        "colab_type": "code",
        "colab": {}
      },
      "source": [
        "#Re-shaping the data\n",
        "x = np.array([i for i in range(len(dates))]).reshape(-1, 1) # index -> ndarray\n",
        "y = np.array(dataset).reshape(-1, 1) # count->ndarray"
      ],
      "execution_count": 0,
      "outputs": []
    },
    {
      "cell_type": "markdown",
      "metadata": {
        "id": "Mi4athqYX_La",
        "colab_type": "text"
      },
      "source": [
        "<h4>Step 5:</h4>\n",
        "Fitting the model and predicting the output."
      ]
    },
    {
      "cell_type": "code",
      "metadata": {
        "trusted": true,
        "id": "lxcjkAvHX_Lb",
        "colab_type": "code",
        "colab": {}
      },
      "source": [
        "from sklearn.linear_model import LinearRegression\n",
        "\n",
        "linear_model = LinearRegression()\n",
        "linear_model.fit(x, y)\n",
        "linear_pred = linear_model.predict(future_y_pred)"
      ],
      "execution_count": 0,
      "outputs": []
    },
    {
      "cell_type": "markdown",
      "metadata": {
        "id": "3mVfAlYtX_Ld",
        "colab_type": "text"
      },
      "source": [
        "<h4>Step 6:</h4>\n",
        "Calculating coefficient of determination(R^2)."
      ]
    },
    {
      "cell_type": "code",
      "metadata": {
        "trusted": true,
        "id": "_zLUxXF3X_Ld",
        "colab_type": "code",
        "outputId": "7e7814c8-95f8-43b6-ba72-47bb721ba856",
        "colab": {
          "base_uri": "https://localhost:8080/",
          "height": 51
        }
      },
      "source": [
        "y_pred = linear_model.predict(y_pred)\n",
        "r_sq = linear_model.score(x,y)\n",
        "print(\"The coefficient of determination(R^2) for this model is: \"+\"{:.2f}\".format(r_sq*100),'%\\n')"
      ],
      "execution_count": 18,
      "outputs": [
        {
          "output_type": "stream",
          "text": [
            "The coefficient of determination(R^2) for this model is: 96.91 %\n",
            "\n"
          ],
          "name": "stdout"
        }
      ]
    },
    {
      "cell_type": "markdown",
      "metadata": {
        "id": "cdVLU-DoX_Lg",
        "colab_type": "text"
      },
      "source": [
        "* Coefficient of determination of 96.91% shows that more than 96% of the data fit our linear regression model.\n",
        "* Generally, a higher coefficient indicates a better fit for the model."
      ]
    },
    {
      "cell_type": "markdown",
      "metadata": {
        "id": "QtqPeRFIX_Lh",
        "colab_type": "text"
      },
      "source": [
        "<h4>Step 7:</h4>\n",
        "\n",
        "Plotting the graph with confirmed date in X-axes and linear model predicted and actual number of case in Y-axes."
      ]
    },
    {
      "cell_type": "code",
      "metadata": {
        "trusted": true,
        "id": "-REgTKIhX_Lh",
        "colab_type": "code",
        "outputId": "bab3294f-bb77-4e29-cab5-7ed732260615",
        "colab": {
          "base_uri": "https://localhost:8080/",
          "height": 436
        }
      },
      "source": [
        "#Size of graph\n",
        "plt.figure(figsize=(15,6))\n",
        "\n",
        "#Plotting linear model predicted number case for each date(curent + future dates)\n",
        "plt.plot(linear_pred, color='red', label='Predicted count')\n",
        "\n",
        "#Plotting actual number of cases for each date\n",
        "plt.plot(dataset, label='Actual count')\n",
        "\n",
        "#Labeling X and Y axes.\n",
        "plt.xlabel('Dates')\n",
        "plt.ylabel('Total number of cases')\n",
        "\n",
        "#Drawing a vertical line which touches linear model predicted last value\n",
        "plt.vlines(x=len(linear_pred)-1, ymin=0, ymax=12000, linestyles='dotted')\n",
        "plt.text(x=len(linear_pred)+2, y=5000, s='predicted no. of\\ncases by next week',color='black',\\\n",
        "         fontsize =15,horizontalalignment='center') \n",
        "plt.xticks(rotation=90)\n",
        "\n",
        "plt.legend()\n",
        "plt.show()"
      ],
      "execution_count": 19,
      "outputs": [
        {
          "output_type": "display_data",
          "data": {
            "image/png": "[encoded data removed]",
            "text/plain": [
              "<Figure size 1080x432 with 1 Axes>"
            ]
          },
          "metadata": {
            "tags": [],
            "needs_background": "light"
          }
        }
      ]
    },
    {
      "cell_type": "markdown",
      "metadata": {
        "id": "hUeB54EoX_Lk",
        "colab_type": "text"
      },
      "source": [
        "<h4>Observation:-</h4>\n",
        "* By observing the rate of change of total number of cases as date changes, we've predicted the expected total number of cases for next week(i.e. 7th day).\n",
        "* The predicted total number of cases for next week(i.e. on 18th March) is approximately 11900.\n",
        "<br><br>\n",
        "<b>Note: </b>\n",
        "As this dataset get keeps on updating, the static textual observation and graphical representation may vary. So the graphical representation will always show the updated dynamic result(i.e. predicted number of cases)."
      ]
    }
  ]
}