{
  "nbformat": 4,
  "nbformat_minor": 0,
  "metadata": {
    "colab": {
      "name": "20년1학기-기말고사.ipynb",
      "provenance": [],
      "collapsed_sections": [],
      "include_colab_link": true
    },
    "kernelspec": {
      "name": "python3",
      "display_name": "Python 3"
    }
  },
  "cells": [
    {
      "cell_type": "markdown",
      "metadata": {
        "id": "view-in-github",
        "colab_type": "text"
      },
      "source": [
        "<a href=\"https://colab.research.google.com/github/BaekChangKyeong/2020BigData/blob/master/20%E1%84%82%E1%85%A7%E1%86%AB1%E1%84%92%E1%85%A1%E1%86%A8%E1%84%80%E1%85%B5_%E1%84%80%E1%85%B5%E1%84%86%E1%85%A1%E1%86%AF%E1%84%80%E1%85%A9%E1%84%89%E1%85%A1.ipynb\" target=\"_parent\"><img src=\"https://colab.research.google.com/assets/colab-badge.svg\" alt=\"Open In Colab\"/></a>"
      ]
    },
    {
      "cell_type": "markdown",
      "metadata": {
        "id": "USdoQTkkAfiU",
        "colab_type": "text"
      },
      "source": [
        "# 2020년 1학기 기말시험"
      ]
    },
    {
      "cell_type": "markdown",
      "metadata": {
        "id": "Yg0l6Iz-NbQX",
        "colab_type": "text"
      },
      "source": [
        "# 이름 : 백창경(더블 클릭)"
      ]
    },
    {
      "cell_type": "markdown",
      "metadata": {
        "id": "dde2pQdBKaXE",
        "colab_type": "text"
      },
      "source": [
        "https://colab.research.google.com/에 import하여 셀에 답을 적고 RUN하십시오. 출력한 결과에 따라 스코어링됩니다."
      ]
    },
    {
      "cell_type": "markdown",
      "metadata": {
        "id": "vytowRjHlN1F",
        "colab_type": "text"
      },
      "source": [
        "Q1. CNN 신경망에서 2D 컨볼루션 레이어를 거친 행렬의 값을 파이썬 array형태로 적으시오. 계산을 위해 계산기앱 또는 액셀을 사용해도 좋습니다.\n"
      ]
    },
    {
      "cell_type": "code",
      "metadata": {
        "id": "vO3cm719mB64",
        "colab_type": "code",
        "colab": {
          "base_uri": "https://localhost:8080/",
          "height": 34
        },
        "outputId": "6e7f3fd1-4aff-4e39-e5e5-ad09bf2770c2"
      },
      "source": [
        "\"\"\" 문제\n",
        "x = [[1,2,3],\n",
        "     [4,5,6],\n",
        "     [7,8,9]]\n",
        "     \n",
        "kernel W =[[0,1],\n",
        "          [1,0]]\n",
        "\n",
        "Padding = VALID\n",
        "\n",
        "convolution을 한 결과를 행렬 y로 하여 print(y)로 출력하시오.\n",
        "\"\"\"\n",
        "y = ([[0,1,2,3],\n",
        "     [1,6,8,6],\n",
        "     [4,12,14,9],\n",
        "     [7,8,9,0]])\n",
        "print(y)"
      ],
      "execution_count": 2,
      "outputs": [
        {
          "output_type": "stream",
          "text": [
            "[[0, 1, 2, 3], [1, 6, 8, 6], [4, 12, 14, 9], [7, 8, 9, 0]]\n"
          ],
          "name": "stdout"
        }
      ]
    },
    {
      "cell_type": "markdown",
      "metadata": {
        "id": "ntyM0f5Rgq5t",
        "colab_type": "text"
      },
      "source": [
        "Q2, 아래의 Confusion Matrix를 보고 질문에 답하시오"
      ]
    },
    {
      "cell_type": "code",
      "metadata": {
        "id": "cjqJY4QkYg55",
        "colab_type": "code",
        "outputId": "c0c1eda1-ee4a-4528-b805-1f8987461597",
        "colab": {
          "base_uri": "https://localhost:8080/",
          "height": 332
        }
      },
      "source": [
        "# 문제 : 아래의 혼동행렬을 보고 TPR과 FNR을 계산하시오. 단 계산하는 공식을 파이썬으로 코딩하여 값을 구하시오.\n",
        "# 혼동행렬의 row는 실제값, column은 예측값, (1,1)이 True & Positive\n",
        "# 정의 : TPR = True Postive rate, FNR = False Negative rate\n",
        "import seaborn as sn\n",
        "import pandas as pd\n",
        "import matplotlib.pyplot as plt\n",
        "import numpy as np\n",
        "\n",
        "array = np.array([[850,6],\n",
        "                  [50,94]])         \n",
        "\n",
        "sn.set(font_scale=2.0) # for label size\n",
        "sn.heatmap(array, annot=True, annot_kws={\"size\": 18}, fmt='d') # font size\n",
        "\n",
        "plt.show()"
      ],
      "execution_count": 5,
      "outputs": [
        {
          "output_type": "stream",
          "text": [
            "/usr/local/lib/python3.6/dist-packages/statsmodels/tools/_testing.py:19: FutureWarning: pandas.util.testing is deprecated. Use the functions in the public API at pandas.testing instead.\n",
            "  import pandas.util.testing as tm\n"
          ],
          "name": "stderr"
        },
        {
          "output_type": "display_data",
          "data": {
            "image/png": "[encoded data removed]",
            "text/plain": [
              "<Figure size 432x288 with 2 Axes>"
            ]
          },
          "metadata": {
            "tags": []
          }
        }
      ]
    },
    {
      "cell_type": "code",
      "metadata": {
        "id": "1cwqB8OwUa36",
        "colab_type": "code",
        "outputId": "0c474ab8-1e64-4c0e-8337-984c524b035c",
        "colab": {
          "base_uri": "https://localhost:8080/",
          "height": 34
        }
      },
      "source": [
        "# Q2.1 TPR=?  아래에 계산식을 쓰고 Run 시키시오\n",
        "# 여러분의 코드 \n",
        "array = np.array(array)\n",
        "tpr=array[1,1]/(array[0,1]+array[1,1])\n",
        "print('TPR깂은 ', tpr)"
      ],
      "execution_count": 6,
      "outputs": [
        {
          "output_type": "stream",
          "text": [
            "TPR깂은  0.94\n"
          ],
          "name": "stdout"
        }
      ]
    },
    {
      "cell_type": "code",
      "metadata": {
        "id": "BzOe-Zgqkgdc",
        "colab_type": "code",
        "colab": {
          "base_uri": "https://localhost:8080/",
          "height": 34
        },
        "outputId": "3fe5357e-5b11-485b-9f3e-1447a5b07884"
      },
      "source": [
        "# Q2.2 FNR 계산을 위한 코드를 쓰고  Run하시오\n",
        "# 여러분의 코드 \n",
        "array = np.array(array)\n",
        "fnr=array[1,0]/(array[1,0]+array[1,1])\n",
        "print('FNR값은 ', fnr)"
      ],
      "execution_count": 7,
      "outputs": [
        {
          "output_type": "stream",
          "text": [
            "FNR값은  0.3472222222222222\n"
          ],
          "name": "stdout"
        }
      ]
    },
    {
      "cell_type": "code",
      "metadata": {
        "id": "TK_zjLxMEiVM",
        "colab_type": "code",
        "colab": {
          "base_uri": "https://localhost:8080/",
          "height": 34
        },
        "outputId": "a621c068-2467-4cbc-eda6-8b72b188503d"
      },
      "source": [
        "#  Q2.3 accurary 계산을 위한 코드를 쓰고  Run하시오\n",
        "# 여러분의 코드\n",
        "array = np.array(array)\n",
        "acc=(array[1,1]+array[0,0])/(array[0,0]+array[1,0]+array[0,1]+array[1,1])\n",
        "print('ACC값은 ', acc)"
      ],
      "execution_count": 8,
      "outputs": [
        {
          "output_type": "stream",
          "text": [
            "ACC값은  0.944\n"
          ],
          "name": "stdout"
        }
      ]
    },
    {
      "cell_type": "markdown",
      "metadata": {
        "id": "yukDPytdDmt7",
        "colab_type": "text"
      },
      "source": [
        "\n",
        "Q3. 다음 신경망 다이어그램을 보고 이를 구현하기 위한 파이썬 코드를 완성하시오"
      ]
    },
    {
      "cell_type": "code",
      "metadata": {
        "id": "dbbSoyMeINdZ",
        "colab_type": "code",
        "outputId": "25abe64c-3d00-48e9-ea31-78fb2b338a2f",
        "colab": {
          "base_uri": "https://localhost:8080/",
          "height": 538
        }
      },
      "source": [
        "! wget --no-check-certificate 'https://docs.google.com/uc?export=download&id=1jGQthuWngRlgUq7masWosTq1LyzwUAS7' -O 퍼셉트론.png\n",
        "from IPython.display import Image\n",
        "Image(\"퍼셉트론.png\", width=500)  "
      ],
      "execution_count": 33,
      "outputs": [
        {
          "output_type": "stream",
          "text": [
            "--2020-06-10 04:54:44--  https://docs.google.com/uc?export=download&id=1jGQthuWngRlgUq7masWosTq1LyzwUAS7\n",
            "Resolving docs.google.com (docs.google.com)... 74.125.26.101, 74.125.26.113, 74.125.26.102, ...\n",
            "Connecting to docs.google.com (docs.google.com)|74.125.26.101|:443... connected.\n",
            "HTTP request sent, awaiting response... 302 Moved Temporarily\n",
            "Location: https://doc-0s-1s-docs.googleusercontent.com/docs/securesc/ha0ro937gcuc7l7deffksulhg5h7mbp1/dgq92i9gdepqk2o7fk474fdfv4k4u09n/1591764825000/04591858293269658552/*/1jGQthuWngRlgUq7masWosTq1LyzwUAS7?e=download [following]\n",
            "Warning: wildcards not supported in HTTP.\n",
            "--2020-06-10 04:54:44--  https://doc-0s-1s-docs.googleusercontent.com/docs/securesc/ha0ro937gcuc7l7deffksulhg5h7mbp1/dgq92i9gdepqk2o7fk474fdfv4k4u09n/1591764825000/04591858293269658552/*/1jGQthuWngRlgUq7masWosTq1LyzwUAS7?e=download\n",
            "Resolving doc-0s-1s-docs.googleusercontent.com (doc-0s-1s-docs.googleusercontent.com)... 172.217.203.132, 2607:f8b0:400c:c07::84\n",
            "Connecting to doc-0s-1s-docs.googleusercontent.com (doc-0s-1s-docs.googleusercontent.com)|172.217.203.132|:443... connected.\n",
            "HTTP request sent, awaiting response... 200 OK\n",
            "Length: 18076 (18K) [image/png]\n",
            "Saving to: ‘퍼셉트론.png’\n",
            "\n",
            "\r퍼셉트론.png          0%[                    ]       0  --.-KB/s               \r퍼셉트론.png        100%[===================>]  17.65K  --.-KB/s    in 0s      \n",
            "\n",
            "2020-06-10 04:54:44 (88.3 MB/s) - ‘퍼셉트론.png’ saved [18076/18076]\n",
            "\n"
          ],
          "name": "stdout"
        },
        {
          "output_type": "execute_result",
          "data": {
            "image/png": "[encoded data removed]",
            "text/plain": [
              "<IPython.core.display.Image object>"
            ]
          },
          "metadata": {
            "tags": [],
            "image/png": {
              "width": 500
            }
          },
          "execution_count": 33
        }
      ]
    },
    {
      "cell_type": "code",
      "metadata": {
        "id": "wN6S1IvUt6jH",
        "colab_type": "code",
        "colab": {
          "base_uri": "https://localhost:8080/",
          "height": 150
        },
        "outputId": "67e4700e-8b75-41ee-f1fa-0648501e8023"
      },
      "source": [
        "#Q3. 위의 그림에 맞는 신경망을 코드로 설계하시오.\n",
        "\n",
        "n = 4  # ?을 채우시오\n",
        "n_inputs = n  # ?을 채우시오\n",
        "n_hidden = n # ?을 채우시오 \n",
        "n_outputs = 2 # ?을 채우시오  \n",
        "X=tf.placeholder(tf.float64, shape=(None, n_inputs), name='X') # ?을 채우시오\n",
        "with tf.name_scope('nn'):\n",
        "hidden = make_nn_layer('hidden', n_hidden, X, activation=tf.nn.relu) # ?을 채우시오\n",
        "outputs = make_nn_layer('outputs', n_outputs, hidden) # ?을 채우시오\n"
      ],
      "execution_count": 34,
      "outputs": [
        {
          "output_type": "error",
          "ename": "IndentationError",
          "evalue": "ignored",
          "traceback": [
            "\u001b[0;36m  File \u001b[0;32m\"<ipython-input-34-b3ddde936423>\"\u001b[0;36m, line \u001b[0;32m9\u001b[0m\n\u001b[0;31m    hidden = make_nn_layer('hidden', n_hidden, X, activation=tf.nn.relu) # ?을 채우시오\u001b[0m\n\u001b[0m         ^\u001b[0m\n\u001b[0;31mIndentationError\u001b[0m\u001b[0;31m:\u001b[0m expected an indented block\n"
          ]
        }
      ]
    },
    {
      "cell_type": "markdown",
      "metadata": {
        "id": "lZg0CU3IEoG-",
        "colab_type": "text"
      },
      "source": [
        "Q4. 아래의 표를 보고 Keras 코드를 완성하시오\n"
      ]
    },
    {
      "cell_type": "code",
      "metadata": {
        "id": "e78Ut02SEs6q",
        "colab_type": "code",
        "outputId": "ffe8dcd0-8827-43ba-99be-3245296baca7",
        "colab": {
          "base_uri": "https://localhost:8080/",
          "height": 54
        }
      },
      "source": [
        "#Q4 표\n",
        "\"\"\"\n",
        "Layer (type)                 Output Shape              Param #   \n",
        "=================================================================\n",
        "conv2d_6 (Conv2D)            (None, 24, 24, 32)        832       \n",
        "_________________________________________________________________\n",
        "max_pooling2d_5 (MaxPooling2 (None, 12, 12, 32)        0         \n",
        "_________________________________________________________________\n",
        "dropout_6 (Dropout)          (None, 12, 12, 32)        0         \n",
        "_________________________________________________________________\n",
        "conv2d_7 (Conv2D)            (None, 10, 10, 64)        18496     \n",
        "_________________________________________________________________\n",
        "max_pooling2d_6 (MaxPooling2 (None, 5, 5, 64)          0         \n",
        "_________________________________________________________________\n",
        "dropout_7 (Dropout)          (None, 5, 5, 64)          0         \n",
        "_________________________________________________________________\n",
        "conv2d_8 (Conv2D)            (None, 5, 5, 128)         8320      \n",
        "_________________________________________________________________\n",
        "max_pooling2d_7 (MaxPooling2 (None, 2, 2, 128)         0         \n",
        "_________________________________________________________________\n",
        "dropout_8 (Dropout)          (None, 2, 2, 128)         0         \n",
        "_________________________________________________________________\n",
        "flatten_3 (Flatten)          (None, 512)               0         \n",
        "_________________________________________________________________\n",
        "dense_5 (Dense)              (None, 128)               65664     \n",
        "_________________________________________________________________\n",
        "dense_6 (Dense)              (None, 10)                1290      \n",
        "=================================================================\n",
        "\n",
        "\"\"\""
      ],
      "execution_count": 9,
      "outputs": [
        {
          "output_type": "execute_result",
          "data": {
            "text/plain": [
              "'\\nLayer (type)                 Output Shape              Param #   \\n=================================================================\\nconv2d_6 (Conv2D)            (None, 24, 24, 32)        832       \\n_________________________________________________________________\\nmax_pooling2d_5 (MaxPooling2 (None, 12, 12, 32)        0         \\n_________________________________________________________________\\ndropout_6 (Dropout)          (None, 12, 12, 32)        0         \\n_________________________________________________________________\\nconv2d_7 (Conv2D)            (None, 10, 10, 64)        18496     \\n_________________________________________________________________\\nmax_pooling2d_6 (MaxPooling2 (None, 5, 5, 64)          0         \\n_________________________________________________________________\\ndropout_7 (Dropout)          (None, 5, 5, 64)          0         \\n_________________________________________________________________\\nconv2d_8 (Conv2D)            (None, 5, 5, 128)         8320      \\n_________________________________________________________________\\nmax_pooling2d_7 (MaxPooling2 (None, 2, 2, 128)         0         \\n_________________________________________________________________\\ndropout_8 (Dropout)          (None, 2, 2, 128)         0         \\n_________________________________________________________________\\nflatten_3 (Flatten)          (None, 512)               0         \\n_________________________________________________________________\\ndense_5 (Dense)              (None, 128)               65664     \\n_________________________________________________________________\\ndense_6 (Dense)              (None, 10)                1290      \\n=================================================================\\n\\n'"
            ]
          },
          "metadata": {
            "tags": []
          },
          "execution_count": 9
        }
      ]
    },
    {
      "cell_type": "code",
      "metadata": {
        "id": "c2RTLEClGqlC",
        "colab_type": "code",
        "colab": {
          "base_uri": "https://localhost:8080/",
          "height": 130
        },
        "outputId": "7c92bf9b-6aae-43c2-945d-e5e435ef0693"
      },
      "source": [
        "# Q4. 이곳에 위의 표에 맞는 딥러닝의 모델을 Keras로 코딩하십시오. 모델 부문만 작성하고 마지막에 print로 summary를 출력하십시오.\n",
        "# 가정 1 : input은 24 x 24의 흑백 이미지\n",
        "# 가정 2 : convolution layer에서 사용하는 activation function은 ReLU로 통일 \n",
        "# 가정 3 : maxpooling 시 pool_size는 2 x 2\n",
        "# 가정 4 : dropout rate는 0.5\n",
        "# 가정 5 : dense_5 layer에서 사용하는 activation function은 ReLU\n",
        "# 가정 6 : dense_6 layer에서 사용하는 activation function은 softmax\n",
        "import keras\n",
        "from keras.models import Sequential\n",
        "from keras.layers import Dense, Dropout, Flatten\n",
        "from keras.layers import Conv2D, MaxPooling2D\n",
        "from keras import backend as K\n",
        "\n",
        "mymodel = Sequential()\n",
        "model.add(Conv2D(32, (24, 24), activation='relu'))\n",
        "model.add(MaxPooling2D(pool_size=(2, 2)))\n",
        "model.add(Conv2D(64, (12, 12), activation='relu'))\n",
        "model.add(MaxPooling2D(pool_size=(2, 2))\n",
        "model.add(Conv2D(64, (6, 6), activation='relu'))\n",
        "model.add(MaxPooling2D(pool_size=(2, 2)))\n",
        "model.add(Dense(512, activation='relu'))\n",
        "model.add(Dense(nClasses, activation='softmax'))\n",
        "\n",
        "\n",
        "\"\"\"\n",
        "mymodel.add(Conv2D_6(32,(24,24),padding='same', input_shape = (24,24,),activation='relu'))\n",
        "mymodel.add(Conv2D_6(32,(12,12), activation='relu'))\n",
        "mymodel.add(MaxPooling2D_5(pool_size=(12, 12)))\n",
        "mymodel.add(Dropout_6(0.5))\n",
        "\n",
        "mymodel.add(Conv2D_7(64,(10,10),padding='same',activation='relu'))\n",
        "mymodel.add(Conv2D_7(64,(10,10), activation='relu'))\n",
        "mymodel.add(MaxPooling2D_6(pool_size=(5, 5))\n",
        "mymodel.add(Dropout_7(0.5))\n",
        "\n",
        "mymodel.add(Conv2D_8(128,(5, 5),padding='same' ,activation='relu'))\n",
        "mymodel.add(Conv2D_8(128,(2, 2), activation='relu'))\n",
        "mymodel.add(MaxPooling2D_7(pool_size=(2, 2)))\n",
        "mymodel.add(Dropout_8(0.5))\n",
        "\n",
        "mymodel.add(Flatten_3())\n",
        "\n",
        "mymodel.add(Dense_5(units=128, activation='relu'))\n",
        "mymodel.add(Dense_6(units=10, activation='softmax'))\n",
        "\"\"\"\n",
        "\n",
        "print(mymodel.summary())\n",
        "# The End"
      ],
      "execution_count": 53,
      "outputs": [
        {
          "output_type": "error",
          "ename": "SyntaxError",
          "evalue": "ignored",
          "traceback": [
            "\u001b[0;36m  File \u001b[0;32m\"<ipython-input-53-393f8f922906>\"\u001b[0;36m, line \u001b[0;32m19\u001b[0m\n\u001b[0;31m    model.add(Conv2D(64, (6, 6), activation='relu'))\u001b[0m\n\u001b[0m        ^\u001b[0m\n\u001b[0;31mSyntaxError\u001b[0m\u001b[0;31m:\u001b[0m invalid syntax\n"
          ]
        }
      ]
    },
    {
      "cell_type": "markdown",
      "metadata": {
        "id": "k6z0l1F6d_SU",
        "colab_type": "text"
      },
      "source": [
        "Q5. 아래  코드가 출력하는 그래프에서 validation loss 값이 모든 epoch 구간에서 training loss 값보다 작도록  코드를 수정하시오. 현재의 그래프는 최적 상태가 아닙니다."
      ]
    },
    {
      "cell_type": "code",
      "metadata": {
        "id": "_3uvk7IVeIZs",
        "colab_type": "code",
        "outputId": "289d17e5-ed12-4e1c-f856-5019a7e45bea",
        "colab": {
          "base_uri": "https://localhost:8080/",
          "height": 1000
        }
      },
      "source": [
        "from keras.datasets import mnist\n",
        "from matplotlib import pyplot as plt\n",
        "plt.style.use('dark_background')\n",
        "from keras.models import Sequential\n",
        "from keras.layers import Dense, Flatten, Activation, Dropout\n",
        "from keras.utils import normalize, to_categorical\n",
        "\n",
        "(X_train, y_train), (X_test, y_test) = mnist.load_data()\n",
        "\n",
        "plt.imshow(X_train[0], cmap = plt.cm.binary)\n",
        "plt.show()\n",
        "\n",
        "X_train = normalize(X_train, axis=1)\n",
        "X_test = normalize(X_test, axis=1)\n",
        "y_train = to_categorical(y_train)\n",
        "y_test = to_categorical(y_test)\n",
        "\n",
        "model = Sequential()\n",
        "model.add(Flatten(input_shape=(28, 28)))\n",
        "model.add(Dense(128))\n",
        "model.add(Activation('relu'))\n",
        "model.add(Dropout(0.25))\n",
        "model.add(Dense(128))\n",
        "model.add(Activation('relu'))\n",
        "model.add(Dropout(0.25))\n",
        "model.add(Dense(10))\n",
        "model.add(Activation('softmax'))\n",
        "model.add(Dropout(0.25))\n",
        "model.summary()\n",
        "\n",
        "model.compile(\n",
        "    loss='categorical_crossentropy',\n",
        "    optimizer='adam',\n",
        "    metrics=['accuracy']\n",
        ")\n",
        "history = model.fit(\n",
        "    X_train,\n",
        "    y_train,\n",
        "    epochs=10,\n",
        "    batch_size=32,\n",
        "    validation_split=0.1,\n",
        "    verbose = 1,\n",
        "    shuffle=True\n",
        ")\n",
        "\n",
        "loss = history.history['loss']\n",
        "val_loss = history.history['val_loss']\n",
        "epochs = range(1, len(loss) + 1)\n",
        "plt.plot(epochs, loss, 'y', label='Training loss')\n",
        "plt.plot(epochs, val_loss, 'r', label='Validation loss')\n",
        "plt.title('Training and validation loss')\n",
        "plt.xlabel('Epochs')\n",
        "plt.ylabel('Loss')\n",
        "plt.legend()\n",
        "plt.show()"
      ],
      "execution_count": 52,
      "outputs": [
        {
          "output_type": "display_data",
          "data": {
            "image/png": "[encoded data removed]",
            "text/plain": [
              "<Figure size 432x288 with 1 Axes>"
            ]
          },
          "metadata": {
            "tags": []
          }
        },
        {
          "output_type": "stream",
          "text": [
            "Model: \"sequential_9\"\n",
            "_________________________________________________________________\n",
            "Layer (type)                 Output Shape              Param #   \n",
            "=================================================================\n",
            "flatten_6 (Flatten)          (None, 784)               0         \n",
            "_________________________________________________________________\n",
            "dense_15 (Dense)             (None, 128)               100480    \n",
            "_________________________________________________________________\n",
            "activation_13 (Activation)   (None, 128)               0         \n",
            "_________________________________________________________________\n",
            "dropout_1 (Dropout)          (None, 128)               0         \n",
            "_________________________________________________________________\n",
            "dense_16 (Dense)             (None, 128)               16512     \n",
            "_________________________________________________________________\n",
            "activation_14 (Activation)   (None, 128)               0         \n",
            "_________________________________________________________________\n",
            "dropout_2 (Dropout)          (None, 128)               0         \n",
            "_________________________________________________________________\n",
            "dense_17 (Dense)             (None, 10)                1290      \n",
            "_________________________________________________________________\n",
            "activation_15 (Activation)   (None, 10)                0         \n",
            "_________________________________________________________________\n",
            "dropout_3 (Dropout)          (None, 10)                0         \n",
            "=================================================================\n",
            "Total params: 118,282\n",
            "Trainable params: 118,282\n",
            "Non-trainable params: 0\n",
            "_________________________________________________________________\n",
            "Train on 54000 samples, validate on 6000 samples\n",
            "Epoch 1/10\n",
            "54000/54000 [==============================] - 6s 117us/step - loss: 4.3201 - accuracy: 0.6673 - val_loss: 0.1453 - val_accuracy: 0.9552\n",
            "Epoch 2/10\n",
            "54000/54000 [==============================] - 6s 110us/step - loss: 4.1420 - accuracy: 0.7124 - val_loss: 0.1091 - val_accuracy: 0.9675\n",
            "Epoch 3/10\n",
            "54000/54000 [==============================] - 7s 122us/step - loss: 4.0642 - accuracy: 0.7230 - val_loss: 0.1063 - val_accuracy: 0.9677\n",
            "Epoch 4/10\n",
            "54000/54000 [==============================] - 6s 114us/step - loss: 4.0962 - accuracy: 0.7251 - val_loss: 0.0887 - val_accuracy: 0.9740\n",
            "Epoch 5/10\n",
            "54000/54000 [==============================] - 6s 110us/step - loss: 4.1323 - accuracy: 0.7255 - val_loss: 0.0852 - val_accuracy: 0.9735\n",
            "Epoch 6/10\n",
            "54000/54000 [==============================] - 6s 110us/step - loss: 4.0078 - accuracy: 0.7341 - val_loss: 0.0883 - val_accuracy: 0.9740\n",
            "Epoch 7/10\n",
            "54000/54000 [==============================] - 6s 116us/step - loss: 4.0643 - accuracy: 0.7327 - val_loss: 0.0814 - val_accuracy: 0.9767\n",
            "Epoch 8/10\n",
            "54000/54000 [==============================] - 6s 114us/step - loss: 4.0874 - accuracy: 0.7315 - val_loss: 0.0786 - val_accuracy: 0.9768\n",
            "Epoch 9/10\n",
            "54000/54000 [==============================] - 6s 109us/step - loss: 4.0998 - accuracy: 0.7319 - val_loss: 0.0775 - val_accuracy: 0.9782\n",
            "Epoch 10/10\n",
            "54000/54000 [==============================] - 6s 113us/step - loss: 4.0481 - accuracy: 0.7359 - val_loss: 0.0820 - val_accuracy: 0.9783\n"
          ],
          "name": "stdout"
        },
        {
          "output_type": "display_data",
          "data": {
            "image/png": "[encoded data removed]",
            "text/plain": [
              "<Figure size 432x288 with 1 Axes>"
            ]
          },
          "metadata": {
            "tags": []
          }
        }
      ]
    },
    {
      "cell_type": "markdown",
      "metadata": {
        "id": "o176gKn3yL-O",
        "colab_type": "text"
      },
      "source": [
        "Q6. Mini-batch size & Learning Rate 튜닝"
      ]
    },
    {
      "cell_type": "code",
      "metadata": {
        "id": "achHRPhwHPF3",
        "colab_type": "code",
        "colab": {
          "base_uri": "https://localhost:8080/",
          "height": 1000
        },
        "outputId": "3738dc45-d8a8-4f19-c28e-2be5e77bccc2"
      },
      "source": [
        "# mlp for the blobs problem with minibatch gradient descent with varied batch size\n",
        "# 아래의 코드에서 다음 두 개의 파라미터를 조합하여 최고의 모델링 성능을 내고 그 결과를 print()로 출력하십시오.\n",
        "# 튜닝할 파라미터 : batch_size & lr (각각 3가지의 옵션이 있으므로 두 파라미터를 조합할 수 있는 경우의 수는 모두 9가지)\n",
        "# 모델의 성능 평가 기준은 다음의 우선순위에 따라 결정하시오. \n",
        "# 1. Validation Loss가 최소, 2. Accuracy는 최고값에 가까울 것\n",
        "# 9번의 실험 후 최적이라고 생각되는 파라미터 값을 코드에 지정하고 셀을 다시 run하여 최종 결과를 출력하시오.\n",
        "%%time\n",
        "from sklearn.datasets import make_blobs\n",
        "from keras.layers import Dense\n",
        "from keras.models import Sequential\n",
        "from keras.optimizers import SGD\n",
        "from keras.utils import to_categorical\n",
        "from matplotlib import pyplot\n",
        "\n",
        "# prepare train and test dataset\n",
        "def prepare_data():\n",
        "\t# generate 2d classification dataset\n",
        "\tX, y = make_blobs(n_samples=1000, centers=3, n_features=2, cluster_std=2, random_state=2)\n",
        "\t# one hot encode output variable\n",
        "\ty = to_categorical(y)\n",
        "\t# split into train and test\n",
        "\tn_train = 500\n",
        "\ttrainX, testX = X[:n_train, :], X[n_train:, :]\n",
        "\ttrainy, testy = y[:n_train], y[n_train:]\n",
        "\treturn trainX, trainy, testX, testy\n",
        "\n",
        "# fit a model and plot learning curve\n",
        "def fit_model(trainX, trainy, testX, testy, n_batch):\n",
        "\t\n",
        "  # define model\n",
        "\tmodel = Sequential()\n",
        "\tmodel.add(Dense(50, input_dim=2, activation='relu', kernel_initializer='he_uniform'))\n",
        "\tmodel.add(Dense(3, activation='softmax'))\n",
        "\t\n",
        "  # lr의 값을  0.1, 0.01, 0.001 중에서 선택하여 이곳에 지정\n",
        "\topt = SGD(lr=0.001, momentum=0.9) \n",
        "\tmodel.compile(loss='categorical_crossentropy', optimizer=opt, metrics=['accuracy'])\n",
        "\t# fit model\n",
        "\thistory = model.fit(trainX, trainy, validation_data=(testX, testy), epochs=150, verbose=2, batch_size=n_batch)\n",
        "\tprint('accuracy = ', format(history.history['accuracy'][149],\".3f\"), ' ', 'validation loss = ', format(history.history['val_loss'][149],\".3f\"))\n",
        "  # plot learning curves\n",
        "\tpyplot.plot(history.history['accuracy'], label='train')\n",
        "\tpyplot.plot(history.history['val_loss'], label='test')\n",
        "\tpyplot.title('batch='+str(n_batch), pad=-40)\n",
        "\n",
        "\n",
        "\n",
        "# prepare dataset\n",
        "trainX, trainy, testX, testy = prepare_data()\n",
        "\n",
        "# batch_size의 값을   16, 32, 64 중에서 선택하여 이곳에 지정\n",
        "batch_size = 16\n",
        "\n",
        "fit_model(trainX, trainy, testX, testy, batch_size)\n",
        "# show learning curves\n",
        "pyplot.show()\n",
        "\n",
        "# 결과를 메모장에 적어놓고 lr과 batch_size를 바꿔가며 최적의 파라미터를 찾아가시오.\n",
        "# 최적의 lr과 batch_size를 선택하여 위의 코드에 적고 Run한 결과룰 출력하여 제출하시오. "
      ],
      "execution_count": 44,
      "outputs": [
        {
          "output_type": "stream",
          "text": [
            "Train on 500 samples, validate on 500 samples\n",
            "Epoch 1/150\n",
            " - 0s - loss: 1.9200 - accuracy: 0.4460 - val_loss: 1.2144 - val_accuracy: 0.5420\n",
            "Epoch 2/150\n",
            " - 0s - loss: 1.0207 - accuracy: 0.5580 - val_loss: 0.8515 - val_accuracy: 0.6160\n",
            "Epoch 3/150\n",
            " - 0s - loss: 0.8724 - accuracy: 0.5960 - val_loss: 0.8494 - val_accuracy: 0.5960\n",
            "Epoch 4/150\n",
            " - 0s - loss: 0.7513 - accuracy: 0.6380 - val_loss: 0.7603 - val_accuracy: 0.6520\n",
            "Epoch 5/150\n",
            " - 0s - loss: 0.7401 - accuracy: 0.6340 - val_loss: 0.9696 - val_accuracy: 0.6000\n",
            "Epoch 6/150\n",
            " - 0s - loss: 0.8181 - accuracy: 0.6000 - val_loss: 0.6427 - val_accuracy: 0.6840\n",
            "Epoch 7/150\n",
            " - 0s - loss: 0.7666 - accuracy: 0.6060 - val_loss: 0.8259 - val_accuracy: 0.6280\n",
            "Epoch 8/150\n",
            " - 0s - loss: 0.8021 - accuracy: 0.6160 - val_loss: 0.6920 - val_accuracy: 0.7080\n",
            "Epoch 9/150\n",
            " - 0s - loss: 0.7026 - accuracy: 0.6700 - val_loss: 0.6183 - val_accuracy: 0.6800\n",
            "Epoch 10/150\n",
            " - 0s - loss: 0.6853 - accuracy: 0.6760 - val_loss: 0.5915 - val_accuracy: 0.7360\n",
            "Epoch 11/150\n",
            " - 0s - loss: 0.6396 - accuracy: 0.6780 - val_loss: 0.6006 - val_accuracy: 0.7140\n",
            "Epoch 12/150\n",
            " - 0s - loss: 0.6320 - accuracy: 0.6900 - val_loss: 0.6745 - val_accuracy: 0.7240\n",
            "Epoch 13/150\n",
            " - 0s - loss: 0.6469 - accuracy: 0.6940 - val_loss: 0.7131 - val_accuracy: 0.6020\n",
            "Epoch 14/150\n",
            " - 0s - loss: 0.6774 - accuracy: 0.6760 - val_loss: 0.5865 - val_accuracy: 0.7160\n",
            "Epoch 15/150\n",
            " - 0s - loss: 0.6143 - accuracy: 0.6840 - val_loss: 0.6371 - val_accuracy: 0.7680\n",
            "Epoch 16/150\n",
            " - 0s - loss: 0.6104 - accuracy: 0.7060 - val_loss: 0.6094 - val_accuracy: 0.8040\n",
            "Epoch 17/150\n",
            " - 0s - loss: 0.6146 - accuracy: 0.7340 - val_loss: 0.5749 - val_accuracy: 0.7340\n",
            "Epoch 18/150\n",
            " - 0s - loss: 0.6037 - accuracy: 0.7120 - val_loss: 0.5530 - val_accuracy: 0.7680\n",
            "Epoch 19/150\n",
            " - 0s - loss: 0.6100 - accuracy: 0.7040 - val_loss: 0.6258 - val_accuracy: 0.6980\n",
            "Epoch 20/150\n",
            " - 0s - loss: 0.6209 - accuracy: 0.7040 - val_loss: 0.5540 - val_accuracy: 0.7980\n",
            "Epoch 21/150\n",
            " - 0s - loss: 0.6490 - accuracy: 0.6780 - val_loss: 0.7170 - val_accuracy: 0.6820\n",
            "Epoch 22/150\n",
            " - 0s - loss: 0.6973 - accuracy: 0.6820 - val_loss: 0.5797 - val_accuracy: 0.7280\n",
            "Epoch 23/150\n",
            " - 0s - loss: 0.6153 - accuracy: 0.7180 - val_loss: 0.5399 - val_accuracy: 0.7540\n",
            "Epoch 24/150\n",
            " - 0s - loss: 0.5845 - accuracy: 0.7320 - val_loss: 0.5389 - val_accuracy: 0.8140\n",
            "Epoch 25/150\n",
            " - 0s - loss: 0.5744 - accuracy: 0.7440 - val_loss: 0.5242 - val_accuracy: 0.8080\n",
            "Epoch 26/150\n",
            " - 0s - loss: 0.5682 - accuracy: 0.7620 - val_loss: 0.5369 - val_accuracy: 0.7540\n",
            "Epoch 27/150\n",
            " - 0s - loss: 0.5784 - accuracy: 0.7360 - val_loss: 0.6062 - val_accuracy: 0.7640\n",
            "Epoch 28/150\n",
            " - 0s - loss: 0.6280 - accuracy: 0.7200 - val_loss: 0.5720 - val_accuracy: 0.7420\n",
            "Epoch 29/150\n",
            " - 0s - loss: 0.5894 - accuracy: 0.7260 - val_loss: 0.5098 - val_accuracy: 0.7940\n",
            "Epoch 30/150\n",
            " - 0s - loss: 0.5553 - accuracy: 0.7620 - val_loss: 0.5090 - val_accuracy: 0.8240\n",
            "Epoch 31/150\n",
            " - 0s - loss: 0.5760 - accuracy: 0.7560 - val_loss: 0.5127 - val_accuracy: 0.8000\n",
            "Epoch 32/150\n",
            " - 0s - loss: 0.5619 - accuracy: 0.7460 - val_loss: 0.5071 - val_accuracy: 0.8240\n",
            "Epoch 33/150\n",
            " - 0s - loss: 0.5421 - accuracy: 0.7680 - val_loss: 0.5177 - val_accuracy: 0.8240\n",
            "Epoch 34/150\n",
            " - 0s - loss: 0.5476 - accuracy: 0.7540 - val_loss: 0.5139 - val_accuracy: 0.7740\n",
            "Epoch 35/150\n",
            " - 0s - loss: 0.5820 - accuracy: 0.7400 - val_loss: 0.6554 - val_accuracy: 0.7180\n",
            "Epoch 36/150\n",
            " - 0s - loss: 0.5683 - accuracy: 0.7540 - val_loss: 0.5247 - val_accuracy: 0.7560\n",
            "Epoch 37/150\n",
            " - 0s - loss: 0.5452 - accuracy: 0.7620 - val_loss: 0.4902 - val_accuracy: 0.8140\n",
            "Epoch 38/150\n",
            " - 0s - loss: 0.5303 - accuracy: 0.7840 - val_loss: 0.5766 - val_accuracy: 0.7820\n",
            "Epoch 39/150\n",
            " - 0s - loss: 0.5580 - accuracy: 0.7500 - val_loss: 0.6178 - val_accuracy: 0.7340\n",
            "Epoch 40/150\n",
            " - 0s - loss: 0.5754 - accuracy: 0.7480 - val_loss: 0.4941 - val_accuracy: 0.8100\n",
            "Epoch 41/150\n",
            " - 0s - loss: 0.5492 - accuracy: 0.7460 - val_loss: 0.5389 - val_accuracy: 0.7540\n",
            "Epoch 42/150\n",
            " - 0s - loss: 0.5556 - accuracy: 0.7400 - val_loss: 0.4844 - val_accuracy: 0.8000\n",
            "Epoch 43/150\n",
            " - 0s - loss: 0.5340 - accuracy: 0.7760 - val_loss: 0.4974 - val_accuracy: 0.8280\n",
            "Epoch 44/150\n",
            " - 0s - loss: 0.5259 - accuracy: 0.7600 - val_loss: 0.4784 - val_accuracy: 0.8320\n",
            "Epoch 45/150\n",
            " - 0s - loss: 0.5476 - accuracy: 0.7520 - val_loss: 0.5181 - val_accuracy: 0.8200\n",
            "Epoch 46/150\n",
            " - 0s - loss: 0.5065 - accuracy: 0.7760 - val_loss: 0.4732 - val_accuracy: 0.8200\n",
            "Epoch 47/150\n",
            " - 0s - loss: 0.5017 - accuracy: 0.7920 - val_loss: 0.4850 - val_accuracy: 0.8340\n",
            "Epoch 48/150\n",
            " - 0s - loss: 0.5108 - accuracy: 0.7940 - val_loss: 0.4646 - val_accuracy: 0.8200\n",
            "Epoch 49/150\n",
            " - 0s - loss: 0.5053 - accuracy: 0.7980 - val_loss: 0.4739 - val_accuracy: 0.8300\n",
            "Epoch 50/150\n",
            " - 0s - loss: 0.5075 - accuracy: 0.7820 - val_loss: 0.4721 - val_accuracy: 0.8380\n",
            "Epoch 51/150\n",
            " - 0s - loss: 0.5159 - accuracy: 0.7700 - val_loss: 0.5822 - val_accuracy: 0.7460\n",
            "Epoch 52/150\n",
            " - 0s - loss: 0.5331 - accuracy: 0.7540 - val_loss: 0.4865 - val_accuracy: 0.8240\n",
            "Epoch 53/150\n",
            " - 0s - loss: 0.5016 - accuracy: 0.7880 - val_loss: 0.4576 - val_accuracy: 0.8200\n",
            "Epoch 54/150\n",
            " - 0s - loss: 0.5281 - accuracy: 0.7660 - val_loss: 0.4543 - val_accuracy: 0.8240\n",
            "Epoch 55/150\n",
            " - 0s - loss: 0.5184 - accuracy: 0.7720 - val_loss: 0.4682 - val_accuracy: 0.8280\n",
            "Epoch 56/150\n",
            " - 0s - loss: 0.4923 - accuracy: 0.7940 - val_loss: 0.4549 - val_accuracy: 0.8260\n",
            "Epoch 57/150\n",
            " - 0s - loss: 0.5027 - accuracy: 0.7840 - val_loss: 0.4519 - val_accuracy: 0.8160\n",
            "Epoch 58/150\n",
            " - 0s - loss: 0.5232 - accuracy: 0.7760 - val_loss: 0.4494 - val_accuracy: 0.8260\n",
            "Epoch 59/150\n",
            " - 0s - loss: 0.4971 - accuracy: 0.7760 - val_loss: 0.5606 - val_accuracy: 0.7580\n",
            "Epoch 60/150\n",
            " - 0s - loss: 0.5347 - accuracy: 0.7560 - val_loss: 0.4724 - val_accuracy: 0.8260\n",
            "Epoch 61/150\n",
            " - 0s - loss: 0.4814 - accuracy: 0.7900 - val_loss: 0.4497 - val_accuracy: 0.8280\n",
            "Epoch 62/150\n",
            " - 0s - loss: 0.5201 - accuracy: 0.7600 - val_loss: 0.5105 - val_accuracy: 0.7620\n",
            "Epoch 63/150\n",
            " - 0s - loss: 0.4950 - accuracy: 0.8100 - val_loss: 0.4435 - val_accuracy: 0.8320\n",
            "Epoch 64/150\n",
            " - 0s - loss: 0.4650 - accuracy: 0.8060 - val_loss: 0.4545 - val_accuracy: 0.8220\n",
            "Epoch 65/150\n",
            " - 0s - loss: 0.4750 - accuracy: 0.8000 - val_loss: 0.4483 - val_accuracy: 0.8260\n",
            "Epoch 66/150\n",
            " - 0s - loss: 0.5026 - accuracy: 0.7800 - val_loss: 0.5346 - val_accuracy: 0.7960\n",
            "Epoch 67/150\n",
            " - 0s - loss: 0.5192 - accuracy: 0.7800 - val_loss: 0.4354 - val_accuracy: 0.8360\n",
            "Epoch 68/150\n",
            " - 0s - loss: 0.4715 - accuracy: 0.8060 - val_loss: 0.4837 - val_accuracy: 0.8160\n",
            "Epoch 69/150\n",
            " - 0s - loss: 0.4739 - accuracy: 0.7980 - val_loss: 0.4342 - val_accuracy: 0.8240\n",
            "Epoch 70/150\n",
            " - 0s - loss: 0.4702 - accuracy: 0.8080 - val_loss: 0.5218 - val_accuracy: 0.7900\n",
            "Epoch 71/150\n",
            " - 0s - loss: 0.4775 - accuracy: 0.7980 - val_loss: 0.4457 - val_accuracy: 0.8340\n",
            "Epoch 72/150\n",
            " - 0s - loss: 0.4618 - accuracy: 0.8040 - val_loss: 0.5100 - val_accuracy: 0.7960\n",
            "Epoch 73/150\n",
            " - 0s - loss: 0.4802 - accuracy: 0.7900 - val_loss: 0.4425 - val_accuracy: 0.8340\n",
            "Epoch 74/150\n",
            " - 0s - loss: 0.4579 - accuracy: 0.8060 - val_loss: 0.4269 - val_accuracy: 0.8300\n",
            "Epoch 75/150\n",
            " - 0s - loss: 0.4547 - accuracy: 0.8100 - val_loss: 0.4461 - val_accuracy: 0.8280\n",
            "Epoch 76/150\n",
            " - 0s - loss: 0.4548 - accuracy: 0.8060 - val_loss: 0.4486 - val_accuracy: 0.8300\n",
            "Epoch 77/150\n",
            " - 0s - loss: 0.4639 - accuracy: 0.7940 - val_loss: 0.4490 - val_accuracy: 0.8260\n",
            "Epoch 78/150\n",
            " - 0s - loss: 0.4827 - accuracy: 0.7920 - val_loss: 0.4299 - val_accuracy: 0.8240\n",
            "Epoch 79/150\n",
            " - 0s - loss: 0.4632 - accuracy: 0.8020 - val_loss: 0.4484 - val_accuracy: 0.8160\n",
            "Epoch 80/150\n",
            " - 0s - loss: 0.4614 - accuracy: 0.8160 - val_loss: 0.4449 - val_accuracy: 0.8260\n",
            "Epoch 81/150\n",
            " - 0s - loss: 0.4495 - accuracy: 0.8040 - val_loss: 0.4389 - val_accuracy: 0.8240\n",
            "Epoch 82/150\n",
            " - 0s - loss: 0.4536 - accuracy: 0.7880 - val_loss: 0.4292 - val_accuracy: 0.8300\n",
            "Epoch 83/150\n",
            " - 0s - loss: 0.4444 - accuracy: 0.8100 - val_loss: 0.4559 - val_accuracy: 0.8200\n",
            "Epoch 84/150\n",
            " - 0s - loss: 0.4577 - accuracy: 0.8060 - val_loss: 0.4374 - val_accuracy: 0.8340\n",
            "Epoch 85/150\n",
            " - 0s - loss: 0.4812 - accuracy: 0.7900 - val_loss: 0.4227 - val_accuracy: 0.8280\n",
            "Epoch 86/150\n",
            " - 0s - loss: 0.4445 - accuracy: 0.8040 - val_loss: 0.4210 - val_accuracy: 0.8300\n",
            "Epoch 87/150\n",
            " - 0s - loss: 0.4477 - accuracy: 0.8140 - val_loss: 0.4187 - val_accuracy: 0.8300\n",
            "Epoch 88/150\n",
            " - 0s - loss: 0.4513 - accuracy: 0.8020 - val_loss: 0.4776 - val_accuracy: 0.7940\n",
            "Epoch 89/150\n",
            " - 0s - loss: 0.4716 - accuracy: 0.8060 - val_loss: 0.4199 - val_accuracy: 0.8260\n",
            "Epoch 90/150\n",
            " - 0s - loss: 0.4581 - accuracy: 0.7980 - val_loss: 0.4416 - val_accuracy: 0.8300\n",
            "Epoch 91/150\n",
            " - 0s - loss: 0.4449 - accuracy: 0.8060 - val_loss: 0.4212 - val_accuracy: 0.8280\n",
            "Epoch 92/150\n",
            " - 0s - loss: 0.4596 - accuracy: 0.8080 - val_loss: 0.4178 - val_accuracy: 0.8300\n",
            "Epoch 93/150\n",
            " - 0s - loss: 0.4469 - accuracy: 0.8000 - val_loss: 0.4527 - val_accuracy: 0.8180\n",
            "Epoch 94/150\n",
            " - 0s - loss: 0.4663 - accuracy: 0.7940 - val_loss: 0.4607 - val_accuracy: 0.8120\n",
            "Epoch 95/150\n",
            " - 0s - loss: 0.4593 - accuracy: 0.8000 - val_loss: 0.4222 - val_accuracy: 0.8300\n",
            "Epoch 96/150\n",
            " - 0s - loss: 0.4532 - accuracy: 0.8000 - val_loss: 0.4145 - val_accuracy: 0.8380\n",
            "Epoch 97/150\n",
            " - 0s - loss: 0.4482 - accuracy: 0.8140 - val_loss: 0.4316 - val_accuracy: 0.8220\n",
            "Epoch 98/150\n",
            " - 0s - loss: 0.4626 - accuracy: 0.8080 - val_loss: 0.4157 - val_accuracy: 0.8380\n",
            "Epoch 99/150\n",
            " - 0s - loss: 0.4424 - accuracy: 0.8220 - val_loss: 0.4225 - val_accuracy: 0.8240\n",
            "Epoch 100/150\n",
            " - 0s - loss: 0.4528 - accuracy: 0.8020 - val_loss: 0.4620 - val_accuracy: 0.8120\n",
            "Epoch 101/150\n",
            " - 0s - loss: 0.4509 - accuracy: 0.8080 - val_loss: 0.4102 - val_accuracy: 0.8360\n",
            "Epoch 102/150\n",
            " - 0s - loss: 0.4611 - accuracy: 0.8080 - val_loss: 0.4207 - val_accuracy: 0.8300\n",
            "Epoch 103/150\n",
            " - 0s - loss: 0.4398 - accuracy: 0.8100 - val_loss: 0.4088 - val_accuracy: 0.8300\n",
            "Epoch 104/150\n",
            " - 0s - loss: 0.4427 - accuracy: 0.8040 - val_loss: 0.4711 - val_accuracy: 0.8080\n",
            "Epoch 105/150\n",
            " - 0s - loss: 0.4734 - accuracy: 0.7840 - val_loss: 0.4388 - val_accuracy: 0.8280\n",
            "Epoch 106/150\n",
            " - 0s - loss: 0.4473 - accuracy: 0.8120 - val_loss: 0.4113 - val_accuracy: 0.8360\n",
            "Epoch 107/150\n",
            " - 0s - loss: 0.4284 - accuracy: 0.8140 - val_loss: 0.4098 - val_accuracy: 0.8320\n",
            "Epoch 108/150\n",
            " - 0s - loss: 0.4252 - accuracy: 0.8220 - val_loss: 0.4167 - val_accuracy: 0.8220\n",
            "Epoch 109/150\n",
            " - 0s - loss: 0.4437 - accuracy: 0.8200 - val_loss: 0.4849 - val_accuracy: 0.8000\n",
            "Epoch 110/150\n",
            " - 0s - loss: 0.4825 - accuracy: 0.7820 - val_loss: 0.4213 - val_accuracy: 0.8300\n",
            "Epoch 111/150\n",
            " - 0s - loss: 0.4437 - accuracy: 0.8120 - val_loss: 0.4440 - val_accuracy: 0.8220\n",
            "Epoch 112/150\n",
            " - 0s - loss: 0.4311 - accuracy: 0.8180 - val_loss: 0.4021 - val_accuracy: 0.8420\n",
            "Epoch 113/150\n",
            " - 0s - loss: 0.4259 - accuracy: 0.8120 - val_loss: 0.4426 - val_accuracy: 0.8220\n",
            "Epoch 114/150\n",
            " - 0s - loss: 0.4210 - accuracy: 0.8240 - val_loss: 0.4043 - val_accuracy: 0.8240\n",
            "Epoch 115/150\n",
            " - 0s - loss: 0.4285 - accuracy: 0.8260 - val_loss: 0.4463 - val_accuracy: 0.8180\n",
            "Epoch 116/150\n",
            " - 0s - loss: 0.4577 - accuracy: 0.8060 - val_loss: 0.4537 - val_accuracy: 0.8120\n",
            "Epoch 117/150\n",
            " - 0s - loss: 0.4335 - accuracy: 0.8220 - val_loss: 0.4101 - val_accuracy: 0.8340\n",
            "Epoch 118/150\n",
            " - 0s - loss: 0.4381 - accuracy: 0.8020 - val_loss: 0.4310 - val_accuracy: 0.8200\n",
            "Epoch 119/150\n",
            " - 0s - loss: 0.4287 - accuracy: 0.8100 - val_loss: 0.4028 - val_accuracy: 0.8300\n",
            "Epoch 120/150\n",
            " - 0s - loss: 0.4582 - accuracy: 0.7980 - val_loss: 0.4024 - val_accuracy: 0.8380\n",
            "Epoch 121/150\n",
            " - 0s - loss: 0.4241 - accuracy: 0.8300 - val_loss: 0.4072 - val_accuracy: 0.8420\n",
            "Epoch 122/150\n",
            " - 0s - loss: 0.4664 - accuracy: 0.8060 - val_loss: 0.4646 - val_accuracy: 0.8060\n",
            "Epoch 123/150\n",
            " - 0s - loss: 0.4879 - accuracy: 0.7940 - val_loss: 0.4410 - val_accuracy: 0.8200\n",
            "Epoch 124/150\n",
            " - 0s - loss: 0.4483 - accuracy: 0.8180 - val_loss: 0.4269 - val_accuracy: 0.8220\n",
            "Epoch 125/150\n",
            " - 0s - loss: 0.4160 - accuracy: 0.8300 - val_loss: 0.4051 - val_accuracy: 0.8260\n",
            "Epoch 126/150\n",
            " - 0s - loss: 0.4315 - accuracy: 0.8180 - val_loss: 0.4207 - val_accuracy: 0.8200\n",
            "Epoch 127/150\n",
            " - 0s - loss: 0.4233 - accuracy: 0.8200 - val_loss: 0.4045 - val_accuracy: 0.8340\n",
            "Epoch 128/150\n",
            " - 0s - loss: 0.4329 - accuracy: 0.8180 - val_loss: 0.4105 - val_accuracy: 0.8380\n",
            "Epoch 129/150\n",
            " - 0s - loss: 0.4149 - accuracy: 0.8260 - val_loss: 0.4022 - val_accuracy: 0.8320\n",
            "Epoch 130/150\n",
            " - 0s - loss: 0.4311 - accuracy: 0.8160 - val_loss: 0.3979 - val_accuracy: 0.8380\n",
            "Epoch 131/150\n",
            " - 0s - loss: 0.4353 - accuracy: 0.8220 - val_loss: 0.4033 - val_accuracy: 0.8300\n",
            "Epoch 132/150\n",
            " - 0s - loss: 0.4337 - accuracy: 0.8100 - val_loss: 0.4228 - val_accuracy: 0.8280\n",
            "Epoch 133/150\n",
            " - 0s - loss: 0.4364 - accuracy: 0.8180 - val_loss: 0.4318 - val_accuracy: 0.8260\n",
            "Epoch 134/150\n",
            " - 0s - loss: 0.4266 - accuracy: 0.8100 - val_loss: 0.4140 - val_accuracy: 0.8340\n",
            "Epoch 135/150\n",
            " - 0s - loss: 0.4538 - accuracy: 0.8120 - val_loss: 0.4039 - val_accuracy: 0.8360\n",
            "Epoch 136/150\n",
            " - 0s - loss: 0.4212 - accuracy: 0.8300 - val_loss: 0.4012 - val_accuracy: 0.8320\n",
            "Epoch 137/150\n",
            " - 0s - loss: 0.4164 - accuracy: 0.8320 - val_loss: 0.4975 - val_accuracy: 0.7880\n",
            "Epoch 138/150\n",
            " - 0s - loss: 0.4239 - accuracy: 0.8160 - val_loss: 0.3957 - val_accuracy: 0.8380\n",
            "Epoch 139/150\n",
            " - 0s - loss: 0.4152 - accuracy: 0.8180 - val_loss: 0.4034 - val_accuracy: 0.8320\n",
            "Epoch 140/150\n",
            " - 0s - loss: 0.4251 - accuracy: 0.8220 - val_loss: 0.4063 - val_accuracy: 0.8340\n",
            "Epoch 141/150\n",
            " - 0s - loss: 0.4199 - accuracy: 0.8160 - val_loss: 0.4802 - val_accuracy: 0.7840\n",
            "Epoch 142/150\n",
            " - 0s - loss: 0.4634 - accuracy: 0.8060 - val_loss: 0.5298 - val_accuracy: 0.7740\n",
            "Epoch 143/150\n",
            " - 0s - loss: 0.4516 - accuracy: 0.8060 - val_loss: 0.4009 - val_accuracy: 0.8340\n",
            "Epoch 144/150\n",
            " - 0s - loss: 0.4235 - accuracy: 0.8220 - val_loss: 0.4176 - val_accuracy: 0.8160\n",
            "Epoch 145/150\n",
            " - 0s - loss: 0.4568 - accuracy: 0.8080 - val_loss: 0.4198 - val_accuracy: 0.8320\n",
            "Epoch 146/150\n",
            " - 0s - loss: 0.4188 - accuracy: 0.8300 - val_loss: 0.4176 - val_accuracy: 0.8260\n",
            "Epoch 147/150\n",
            " - 0s - loss: 0.4409 - accuracy: 0.8220 - val_loss: 0.3986 - val_accuracy: 0.8340\n",
            "Epoch 148/150\n",
            " - 0s - loss: 0.4186 - accuracy: 0.8180 - val_loss: 0.4190 - val_accuracy: 0.8220\n",
            "Epoch 149/150\n",
            " - 0s - loss: 0.4296 - accuracy: 0.8140 - val_loss: 0.4044 - val_accuracy: 0.8380\n",
            "Epoch 150/150\n",
            " - 0s - loss: 0.4121 - accuracy: 0.8240 - val_loss: 0.4002 - val_accuracy: 0.8340\n",
            "accuracy =  0.824   validation loss =  0.400\n"
          ],
          "name": "stdout"
        },
        {
          "output_type": "display_data",
          "data": {
            "image/png": "[encoded data removed]",
            "text/plain": [
              "<Figure size 432x288 with 1 Axes>"
            ]
          },
          "metadata": {
            "tags": []
          }
        },
        {
          "output_type": "stream",
          "text": [
            "CPU times: user 10.2 s, sys: 596 ms, total: 10.8 s\n",
            "Wall time: 9.89 s\n"
          ],
          "name": "stdout"
        }
      ]
    },
    {
      "cell_type": "markdown",
      "metadata": {
        "id": "U7B16qvfgODH",
        "colab_type": "text"
      },
      "source": [
        "Q7 . RNN 문장 생성기\n"
      ]
    },
    {
      "cell_type": "code",
      "metadata": {
        "id": "_2DqrQtH9Itp",
        "colab_type": "code",
        "colab": {}
      },
      "source": [
        "# 다음의 코드를 완성하시오\n",
        "from tensorflow.keras.preprocessing.text import Tokenizer\n",
        "from tensorflow.keras.preprocessing.sequence import pad_sequences\n",
        "import numpy as np\n",
        "from tensorflow.keras.utils import to_categorical\n",
        "\n",
        "text=\"\"\"특히 최근 수도권에서는 교회 소모임 참석자에 이어 이들 가족과 지인으로 번지는 2차 감염 사례가 증가하고 있습니다. 중앙재난안전대책본부는 오늘까지 수도권 교회와 관련한 코로나19 확진자는 총 63명이라고 밝혔으며  2차 감염자는 33명 이라고 전했습니다. \"\"\"\n",
        "\n",
        "\n",
        "t = Tokenizer()\n",
        "t.fit_on_texts([text])\n",
        "vocab_size = len(t.word_index) + 1\n",
        "print('단어 집합의 크기 : %d' % vocab_size)\n",
        "\n",
        "\n",
        "print(t.word_index)\n",
        "\n",
        "sequences = list()\n",
        "for line in text.split('\\n'): \n",
        "    encoded = t.texts_to_sequences([line])[0]\n",
        "    for i in range(1, len(encoded)):\n",
        "        sequence = encoded[:i+1]\n",
        "        sequences.append(sequence)\n",
        "\n",
        "print('학습에 사용할 샘플의 개수: %d' % len(sequences))\n",
        "\n",
        "\n",
        "max_len=max(len(l) for l in sequences) \n",
        "\n",
        "sequences = pad_sequences(sequences, maxlen=max_len, padding='pre')\n",
        "\n",
        "sequences = np.array(sequences)\n",
        "X = sequences[:,:-1]\n",
        "y = sequences[:,-1]\n",
        "\n",
        "\n",
        "from tensorflow.keras.models import Sequential\n",
        "from tensorflow.keras.layers import Embedding, Dense, SimpleRNN\n",
        "\n",
        "model = Sequential()\n",
        "model.add(Embedding(vocab_size, 10, input_length=max_len-1))  \n",
        "model.add(SimpleRNN(32))\n",
        "model.add(Dense(vocab_size, activation='softmax'))\n",
        "model.compile(loss='sparse_categorical_crossentropy', optimizer='adam', metrics=['accuracy'])\n",
        "model.fit(X, y, epochs=120, verbose=2)\n",
        "\n",
        "# 이 블록에서 yoou_code_here 부분을 완성하시오\n",
        "def sentence_generation(model, t, current_word, n): # model = 모델, t = 토크나이저, current_word = 현재 단어, n = 반복할 횟수\n",
        "    init_word = current_word # 처음 들어온 단어도 마지막에 같이 출력하기위해 저장\n",
        "    sentence = ''\n",
        "    for _ in range(n): # n번 반복\n",
        "        encoded = t.texts_to_sequences([current_word])[0] # 현재 단어에 대한 정수 인코딩\n",
        "        encoded = pad_sequences([encoded], maxlen=30, padding='pre') # 데이터에 대한 패딩\n",
        "        result = np.argmax(model.predict(encoded), axis=-1)\n",
        "        for word, index in t.word_index.items(): \n",
        "            if index == result: # 만약 예측한 단어의 인덱스 값이 동일한 단어가 있다면\n",
        "                break # 해당 단어가 예측 단어이므로 break\n",
        "        current_word = current_word + ' '  + word # 현재 단어 + ' ' + 예측한 단어를 current_word로 저장\n",
        "        sentence = sentence + ' ' + word  # 예측한 단어를 sentence에 append\n",
        "     \n",
        "    sentence = init_word + sentence # 초기의 텍스트와 for loop에서 생성된 텍스트를 concatenate\n",
        "    return sentence\n",
        "\n",
        "print(sentence_generation(model, t, '특히', 10))"
      ],
      "execution_count": 0,
      "outputs": []
    },
    {
      "cell_type": "markdown",
      "metadata": {
        "id": "Q_ZqqZcvN1PQ",
        "colab_type": "text"
      },
      "source": [
        "## 20년1학기-기말고사-yourname.ipynb로 다운로드한 후 제출하십시오.\n",
        "수고하였습니다!"
      ]
    }
  ]
}